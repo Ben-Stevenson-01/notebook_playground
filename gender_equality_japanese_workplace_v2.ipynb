{
 "cells": [
  {
   "cell_type": "markdown",
   "metadata": {},
   "source": [
    "# Gender Equality in the Japanese Workplace\n",
    "\n",
    "This is a study into the gender equality or therefore lack of in the Japanese workplace.\n",
    "\n",
    "The data collected for this study was obtained via surveying currently working Japanese women residing in Japan.\n"
   ]
  },
  {
   "cell_type": "code",
   "execution_count": 113,
   "metadata": {
    "collapsed": false
   },
   "outputs": [],
   "source": [
    "import numpy as np\n",
    "import pandas as pd\n",
    "import matplotlib.pyplot as plt\n",
    "\n",
    "%matplotlib inline"
   ]
  },
  {
   "cell_type": "code",
   "execution_count": 114,
   "metadata": {
    "collapsed": false
   },
   "outputs": [],
   "source": [
    "df = pd.read_csv('data/gender_equality_japanese_workplace_eng.csv', header=1)\n",
    "total = len(df)"
   ]
  },
  {
   "cell_type": "markdown",
   "metadata": {},
   "source": [
    "The default matplotlib bar chart is super ugly, so we'll create some custom styling."
   ]
  },
  {
   "cell_type": "code",
   "execution_count": 164,
   "metadata": {
    "collapsed": true
   },
   "outputs": [],
   "source": [
    "import textwrap\n",
    "\n",
    "def draw_barchart(x, y, x_ticks, y_ticks, title):\n",
    "    fig = plt.figure(figsize=(8,6))\n",
    "    ax = plt.subplot(111)\n",
    "    \n",
    "    ax.spines[\"top\"].set_visible(False) \n",
    "    ax.spines[\"right\"].set_visible(False)\n",
    "    ax.spines['left'].set_color('#1a1a1a')\n",
    "    ax.spines['bottom'].set_color('#1a1a1a')\n",
    "    \n",
    "    ax.get_xaxis().tick_bottom()  \n",
    "    ax.get_yaxis().tick_left()\n",
    "    \n",
    "    ax.tick_params(axis='x', colors='#1a1a1a')\n",
    "    ax.tick_params(axis='y', colors='#1a1a1a')\n",
    "    \n",
    "    plt.xticks(fontsize=14, color='#1a1a1a')  \n",
    "    plt.yticks(y_ticks, fontsize=14, color='#1a1a1a') \n",
    "    plt.xticks(x, x_ticks)\n",
    "    \n",
    "    title = \"\\n\".join(textwrap.wrap(title, 60))\n",
    "    plt.title(title, fontsize=18, color='#1a1a1a', y=1.1)\n",
    "    \n",
    "    return ax.bar(x, y, width= 0.8, color=\"#ff5733\", edgecolor = \"none\")"
   ]
  },
  {
   "cell_type": "code",
   "execution_count": 116,
   "metadata": {
    "collapsed": false
   },
   "outputs": [
    {
     "data": {
      "text/html": [
       "<div>\n",
       "<table border=\"1\" class=\"dataframe\">\n",
       "  <thead>\n",
       "    <tr style=\"text-align: right;\">\n",
       "      <th></th>\n",
       "      <th>Age</th>\n",
       "      <th>My current job requires a degree or is skilled work.</th>\n",
       "      <th>There are more women in my workplace than men.</th>\n",
       "      <th>My boss is male.</th>\n",
       "      <th>The treatment between men and women in my workplace is not equal.</th>\n",
       "      <th>I feel disadvantaged because I am female.</th>\n",
       "      <th>There are things I have to do as a female that males do not.</th>\n",
       "      <th>As a female there are things I can not do that males can.</th>\n",
       "      <th>I would like to do a managerial job.</th>\n",
       "      <th>I will quit work when I marry/When I married I quit work.</th>\n",
       "      <th>My workplace offers maternity leave.</th>\n",
       "      <th>My workplace offers maternity leave to not just women but men too.</th>\n",
       "      <th>I feel that there is pressure for women to quit work once married.</th>\n",
       "    </tr>\n",
       "  </thead>\n",
       "  <tbody>\n",
       "    <tr>\n",
       "      <th>0</th>\n",
       "      <td>40-49</td>\n",
       "      <td>disagree</td>\n",
       "      <td>disagree</td>\n",
       "      <td>disagree</td>\n",
       "      <td>disagree</td>\n",
       "      <td>agree</td>\n",
       "      <td>agree</td>\n",
       "      <td>disagree</td>\n",
       "      <td>agree</td>\n",
       "      <td>disagree</td>\n",
       "      <td>agree</td>\n",
       "      <td>agree</td>\n",
       "      <td>disagree</td>\n",
       "    </tr>\n",
       "    <tr>\n",
       "      <th>1</th>\n",
       "      <td>20-29</td>\n",
       "      <td>disagree</td>\n",
       "      <td>disagree</td>\n",
       "      <td>agree</td>\n",
       "      <td>disagree</td>\n",
       "      <td>disagree</td>\n",
       "      <td>agree</td>\n",
       "      <td>disagree</td>\n",
       "      <td>agree</td>\n",
       "      <td>disagree</td>\n",
       "      <td>agree</td>\n",
       "      <td>agree</td>\n",
       "      <td>disagree</td>\n",
       "    </tr>\n",
       "    <tr>\n",
       "      <th>2</th>\n",
       "      <td>20-29</td>\n",
       "      <td>disagree</td>\n",
       "      <td>agree</td>\n",
       "      <td>disagree</td>\n",
       "      <td>disagree</td>\n",
       "      <td>disagree</td>\n",
       "      <td>disagree</td>\n",
       "      <td>disagree</td>\n",
       "      <td>disagree</td>\n",
       "      <td>disagree</td>\n",
       "      <td>agree</td>\n",
       "      <td>disagree</td>\n",
       "      <td>disagree</td>\n",
       "    </tr>\n",
       "    <tr>\n",
       "      <th>3</th>\n",
       "      <td>50~</td>\n",
       "      <td>agree</td>\n",
       "      <td>disagree</td>\n",
       "      <td>disagree</td>\n",
       "      <td>disagree</td>\n",
       "      <td>disagree</td>\n",
       "      <td>disagree</td>\n",
       "      <td>disagree</td>\n",
       "      <td>disagree</td>\n",
       "      <td>disagree</td>\n",
       "      <td>disagree</td>\n",
       "      <td>disagree</td>\n",
       "      <td>disagree</td>\n",
       "    </tr>\n",
       "    <tr>\n",
       "      <th>4</th>\n",
       "      <td>30-39</td>\n",
       "      <td>agree</td>\n",
       "      <td>disagree</td>\n",
       "      <td>agree</td>\n",
       "      <td>agree</td>\n",
       "      <td>agree</td>\n",
       "      <td>agree</td>\n",
       "      <td>disagree</td>\n",
       "      <td>agree</td>\n",
       "      <td>disagree</td>\n",
       "      <td>disagree</td>\n",
       "      <td>disagree</td>\n",
       "      <td>agree</td>\n",
       "    </tr>\n",
       "  </tbody>\n",
       "</table>\n",
       "</div>"
      ],
      "text/plain": [
       "     Age My current job requires a degree or is skilled work.  \\\n",
       "0  40-49                                           disagree     \n",
       "1  20-29                                           disagree     \n",
       "2  20-29                                           disagree     \n",
       "3    50~                                              agree     \n",
       "4  30-39                                              agree     \n",
       "\n",
       "  There are more women in my workplace than men. My boss is male.  \\\n",
       "0                                       disagree         disagree   \n",
       "1                                       disagree            agree   \n",
       "2                                          agree         disagree   \n",
       "3                                       disagree         disagree   \n",
       "4                                       disagree            agree   \n",
       "\n",
       "  The treatment between men and women in my workplace is not equal.  \\\n",
       "0                                           disagree                  \n",
       "1                                           disagree                  \n",
       "2                                           disagree                  \n",
       "3                                           disagree                  \n",
       "4                                              agree                  \n",
       "\n",
       "  I feel disadvantaged because I am female.  \\\n",
       "0                                     agree   \n",
       "1                                  disagree   \n",
       "2                                  disagree   \n",
       "3                                  disagree   \n",
       "4                                     agree   \n",
       "\n",
       "  There are things I have to do as a female that males do not.  \\\n",
       "0                                              agree             \n",
       "1                                              agree             \n",
       "2                                           disagree             \n",
       "3                                           disagree             \n",
       "4                                              agree             \n",
       "\n",
       "  As a female there are things I can not do that males can.  \\\n",
       "0                                           disagree          \n",
       "1                                           disagree          \n",
       "2                                           disagree          \n",
       "3                                           disagree          \n",
       "4                                           disagree          \n",
       "\n",
       "  I would like to do a managerial job.  \\\n",
       "0                                agree   \n",
       "1                                agree   \n",
       "2                             disagree   \n",
       "3                             disagree   \n",
       "4                                agree   \n",
       "\n",
       "  I will quit work when I marry/When I married I quit work.  \\\n",
       "0                                           disagree          \n",
       "1                                           disagree          \n",
       "2                                           disagree          \n",
       "3                                           disagree          \n",
       "4                                           disagree          \n",
       "\n",
       "  My workplace offers maternity leave.  \\\n",
       "0                                agree   \n",
       "1                                agree   \n",
       "2                                agree   \n",
       "3                             disagree   \n",
       "4                             disagree   \n",
       "\n",
       "  My workplace offers maternity leave to not just women but men too.  \\\n",
       "0                                              agree                   \n",
       "1                                              agree                   \n",
       "2                                           disagree                   \n",
       "3                                           disagree                   \n",
       "4                                           disagree                   \n",
       "\n",
       "  I feel that there is pressure for women to quit work once married.  \n",
       "0                                           disagree                  \n",
       "1                                           disagree                  \n",
       "2                                           disagree                  \n",
       "3                                           disagree                  \n",
       "4                                              agree                  "
      ]
     },
     "execution_count": 116,
     "metadata": {},
     "output_type": "execute_result"
    }
   ],
   "source": [
    "df.head()"
   ]
  },
  {
   "cell_type": "code",
   "execution_count": 117,
   "metadata": {
    "collapsed": false
   },
   "outputs": [
    {
     "data": {
      "text/html": [
       "<div>\n",
       "<table border=\"1\" class=\"dataframe\">\n",
       "  <thead>\n",
       "    <tr style=\"text-align: right;\">\n",
       "      <th></th>\n",
       "      <th>Age</th>\n",
       "      <th>My current job requires a degree or is skilled work.</th>\n",
       "      <th>There are more women in my workplace than men.</th>\n",
       "      <th>My boss is male.</th>\n",
       "      <th>The treatment between men and women in my workplace is not equal.</th>\n",
       "      <th>I feel disadvantaged because I am female.</th>\n",
       "      <th>There are things I have to do as a female that males do not.</th>\n",
       "      <th>As a female there are things I can not do that males can.</th>\n",
       "      <th>I would like to do a managerial job.</th>\n",
       "      <th>I will quit work when I marry/When I married I quit work.</th>\n",
       "      <th>My workplace offers maternity leave.</th>\n",
       "      <th>My workplace offers maternity leave to not just women but men too.</th>\n",
       "      <th>I feel that there is pressure for women to quit work once married.</th>\n",
       "    </tr>\n",
       "  </thead>\n",
       "  <tbody>\n",
       "    <tr>\n",
       "      <th>count</th>\n",
       "      <td>51</td>\n",
       "      <td>51</td>\n",
       "      <td>51</td>\n",
       "      <td>51</td>\n",
       "      <td>51</td>\n",
       "      <td>51</td>\n",
       "      <td>51</td>\n",
       "      <td>51</td>\n",
       "      <td>51</td>\n",
       "      <td>51</td>\n",
       "      <td>51</td>\n",
       "      <td>51</td>\n",
       "      <td>51</td>\n",
       "    </tr>\n",
       "    <tr>\n",
       "      <th>unique</th>\n",
       "      <td>5</td>\n",
       "      <td>2</td>\n",
       "      <td>2</td>\n",
       "      <td>2</td>\n",
       "      <td>2</td>\n",
       "      <td>2</td>\n",
       "      <td>2</td>\n",
       "      <td>2</td>\n",
       "      <td>2</td>\n",
       "      <td>2</td>\n",
       "      <td>2</td>\n",
       "      <td>2</td>\n",
       "      <td>2</td>\n",
       "    </tr>\n",
       "    <tr>\n",
       "      <th>top</th>\n",
       "      <td>20-29</td>\n",
       "      <td>agree</td>\n",
       "      <td>disagree</td>\n",
       "      <td>agree</td>\n",
       "      <td>disagree</td>\n",
       "      <td>disagree</td>\n",
       "      <td>disagree</td>\n",
       "      <td>disagree</td>\n",
       "      <td>disagree</td>\n",
       "      <td>disagree</td>\n",
       "      <td>agree</td>\n",
       "      <td>agree</td>\n",
       "      <td>disagree</td>\n",
       "    </tr>\n",
       "    <tr>\n",
       "      <th>freq</th>\n",
       "      <td>19</td>\n",
       "      <td>28</td>\n",
       "      <td>26</td>\n",
       "      <td>31</td>\n",
       "      <td>35</td>\n",
       "      <td>38</td>\n",
       "      <td>28</td>\n",
       "      <td>40</td>\n",
       "      <td>32</td>\n",
       "      <td>45</td>\n",
       "      <td>44</td>\n",
       "      <td>27</td>\n",
       "      <td>32</td>\n",
       "    </tr>\n",
       "  </tbody>\n",
       "</table>\n",
       "</div>"
      ],
      "text/plain": [
       "          Age My current job requires a degree or is skilled work.  \\\n",
       "count      51                                                 51     \n",
       "unique      5                                                  2     \n",
       "top     20-29                                              agree     \n",
       "freq       19                                                 28     \n",
       "\n",
       "       There are more women in my workplace than men. My boss is male.  \\\n",
       "count                                              51               51   \n",
       "unique                                              2                2   \n",
       "top                                          disagree            agree   \n",
       "freq                                               26               31   \n",
       "\n",
       "       The treatment between men and women in my workplace is not equal.  \\\n",
       "count                                                  51                  \n",
       "unique                                                  2                  \n",
       "top                                              disagree                  \n",
       "freq                                                   35                  \n",
       "\n",
       "       I feel disadvantaged because I am female.  \\\n",
       "count                                         51   \n",
       "unique                                         2   \n",
       "top                                     disagree   \n",
       "freq                                          38   \n",
       "\n",
       "       There are things I have to do as a female that males do not.  \\\n",
       "count                                                  51             \n",
       "unique                                                  2             \n",
       "top                                              disagree             \n",
       "freq                                                   28             \n",
       "\n",
       "       As a female there are things I can not do that males can.  \\\n",
       "count                                                  51          \n",
       "unique                                                  2          \n",
       "top                                              disagree          \n",
       "freq                                                   40          \n",
       "\n",
       "       I would like to do a managerial job.  \\\n",
       "count                                    51   \n",
       "unique                                    2   \n",
       "top                                disagree   \n",
       "freq                                     32   \n",
       "\n",
       "       I will quit work when I marry/When I married I quit work.  \\\n",
       "count                                                  51          \n",
       "unique                                                  2          \n",
       "top                                              disagree          \n",
       "freq                                                   45          \n",
       "\n",
       "       My workplace offers maternity leave.  \\\n",
       "count                                    51   \n",
       "unique                                    2   \n",
       "top                                   agree   \n",
       "freq                                     44   \n",
       "\n",
       "       My workplace offers maternity leave to not just women but men too.  \\\n",
       "count                                                  51                   \n",
       "unique                                                  2                   \n",
       "top                                                 agree                   \n",
       "freq                                                   27                   \n",
       "\n",
       "       I feel that there is pressure for women to quit work once married.  \n",
       "count                                                  51                  \n",
       "unique                                                  2                  \n",
       "top                                              disagree                  \n",
       "freq                                                   32                  "
      ]
     },
     "execution_count": 117,
     "metadata": {},
     "output_type": "execute_result"
    }
   ],
   "source": [
    "df.describe()"
   ]
  },
  {
   "cell_type": "markdown",
   "metadata": {},
   "source": [
    "The responses in the data are recorded as 'agree' or 'disagree'. This is binary by nature and would be more useful as a numerical value in order to quickly takes sums and averages of responses. As such, let's convert all the responses to their numerical equivalent.\n",
    "\n",
    "As well as this the column labels are unreasonably long, so we will abreviate them too."
   ]
  },
  {
   "cell_type": "code",
   "execution_count": 118,
   "metadata": {
    "collapsed": false
   },
   "outputs": [
    {
     "data": {
      "text/html": [
       "<div>\n",
       "<table border=\"1\" class=\"dataframe\">\n",
       "  <thead>\n",
       "    <tr style=\"text-align: right;\">\n",
       "      <th></th>\n",
       "      <th>Skilled</th>\n",
       "      <th>More Women</th>\n",
       "      <th>Male Boss</th>\n",
       "      <th>Unequal</th>\n",
       "      <th>Disadvantaged</th>\n",
       "      <th>Female Tasks</th>\n",
       "      <th>Male Tasks</th>\n",
       "      <th>Managerial</th>\n",
       "      <th>Quit</th>\n",
       "      <th>Maternity</th>\n",
       "      <th>Male Maternity</th>\n",
       "      <th>Pressure</th>\n",
       "      <th>Age</th>\n",
       "    </tr>\n",
       "  </thead>\n",
       "  <tbody>\n",
       "    <tr>\n",
       "      <th>0</th>\n",
       "      <td>0.0</td>\n",
       "      <td>0.0</td>\n",
       "      <td>0.0</td>\n",
       "      <td>0.0</td>\n",
       "      <td>1.0</td>\n",
       "      <td>1.0</td>\n",
       "      <td>0.0</td>\n",
       "      <td>1.0</td>\n",
       "      <td>0.0</td>\n",
       "      <td>1.0</td>\n",
       "      <td>1.0</td>\n",
       "      <td>0.0</td>\n",
       "      <td>40-49</td>\n",
       "    </tr>\n",
       "    <tr>\n",
       "      <th>1</th>\n",
       "      <td>0.0</td>\n",
       "      <td>0.0</td>\n",
       "      <td>1.0</td>\n",
       "      <td>0.0</td>\n",
       "      <td>0.0</td>\n",
       "      <td>1.0</td>\n",
       "      <td>0.0</td>\n",
       "      <td>1.0</td>\n",
       "      <td>0.0</td>\n",
       "      <td>1.0</td>\n",
       "      <td>1.0</td>\n",
       "      <td>0.0</td>\n",
       "      <td>20-29</td>\n",
       "    </tr>\n",
       "    <tr>\n",
       "      <th>2</th>\n",
       "      <td>0.0</td>\n",
       "      <td>1.0</td>\n",
       "      <td>0.0</td>\n",
       "      <td>0.0</td>\n",
       "      <td>0.0</td>\n",
       "      <td>0.0</td>\n",
       "      <td>0.0</td>\n",
       "      <td>0.0</td>\n",
       "      <td>0.0</td>\n",
       "      <td>1.0</td>\n",
       "      <td>0.0</td>\n",
       "      <td>0.0</td>\n",
       "      <td>20-29</td>\n",
       "    </tr>\n",
       "    <tr>\n",
       "      <th>3</th>\n",
       "      <td>1.0</td>\n",
       "      <td>0.0</td>\n",
       "      <td>0.0</td>\n",
       "      <td>0.0</td>\n",
       "      <td>0.0</td>\n",
       "      <td>0.0</td>\n",
       "      <td>0.0</td>\n",
       "      <td>0.0</td>\n",
       "      <td>0.0</td>\n",
       "      <td>0.0</td>\n",
       "      <td>0.0</td>\n",
       "      <td>0.0</td>\n",
       "      <td>50~</td>\n",
       "    </tr>\n",
       "    <tr>\n",
       "      <th>4</th>\n",
       "      <td>1.0</td>\n",
       "      <td>0.0</td>\n",
       "      <td>1.0</td>\n",
       "      <td>1.0</td>\n",
       "      <td>1.0</td>\n",
       "      <td>1.0</td>\n",
       "      <td>0.0</td>\n",
       "      <td>1.0</td>\n",
       "      <td>0.0</td>\n",
       "      <td>0.0</td>\n",
       "      <td>0.0</td>\n",
       "      <td>1.0</td>\n",
       "      <td>30-39</td>\n",
       "    </tr>\n",
       "  </tbody>\n",
       "</table>\n",
       "</div>"
      ],
      "text/plain": [
       "   Skilled  More Women  Male Boss  Unequal  Disadvantaged  Female Tasks  \\\n",
       "0      0.0         0.0        0.0      0.0            1.0           1.0   \n",
       "1      0.0         0.0        1.0      0.0            0.0           1.0   \n",
       "2      0.0         1.0        0.0      0.0            0.0           0.0   \n",
       "3      1.0         0.0        0.0      0.0            0.0           0.0   \n",
       "4      1.0         0.0        1.0      1.0            1.0           1.0   \n",
       "\n",
       "   Male Tasks  Managerial  Quit  Maternity  Male Maternity  Pressure    Age  \n",
       "0         0.0         1.0   0.0        1.0             1.0       0.0  40-49  \n",
       "1         0.0         1.0   0.0        1.0             1.0       0.0  20-29  \n",
       "2         0.0         0.0   0.0        1.0             0.0       0.0  20-29  \n",
       "3         0.0         0.0   0.0        0.0             0.0       0.0    50~  \n",
       "4         0.0         1.0   0.0        0.0             0.0       1.0  30-39  "
      ]
     },
     "execution_count": 118,
     "metadata": {},
     "output_type": "execute_result"
    }
   ],
   "source": [
    "def response_convert(r):\n",
    "    if r == 'agree':\n",
    "        return 1\n",
    "    elif r == 'disagree':\n",
    "        return 0\n",
    "    else:\n",
    "        return r\n",
    "\n",
    "df.columns = ['Age', 'Skilled', 'More Women', 'Male Boss', 'Unequal', 'Disadvantaged',\n",
    "              'Female Tasks', 'Male Tasks', 'Managerial', 'Quit', 'Maternity',\n",
    "              'Male Maternity', 'Pressure']\n",
    "\n",
    "# Age is not binary so we need to remove it from the dataframe\n",
    "# and then put it back after we have ran the conversion function.\n",
    "age_col = df.pop('Age')\n",
    "df = df.applymap(response_convert).astype(float)\n",
    "df['Age'] = pd.Series(age_col, index=df.index)\n",
    "\n",
    "df.head()"
   ]
  },
  {
   "cell_type": "markdown",
   "metadata": {},
   "source": [
    "## Equal Sample\n",
    "\n",
    "Basic exploratory analysis on woman who responded that their workplace had gender equality."
   ]
  },
  {
   "cell_type": "markdown",
   "metadata": {},
   "source": [
    "Lets take a look at what percentages of respondants said that their workplace is equal.\n",
    "\n",
    "We will also pull out the columns which strongly indicate inequality."
   ]
  },
  {
   "cell_type": "code",
   "execution_count": 58,
   "metadata": {
    "collapsed": false
   },
   "outputs": [
    {
     "name": "stdout",
     "output_type": "stream",
     "text": [
      "% Equal: 68.62745098039215\n"
     ]
    },
    {
     "data": {
      "text/html": [
       "<div>\n",
       "<table border=\"1\" class=\"dataframe\">\n",
       "  <thead>\n",
       "    <tr style=\"text-align: right;\">\n",
       "      <th></th>\n",
       "      <th>Female Tasks</th>\n",
       "      <th>Male Maternity</th>\n",
       "      <th>Pressure</th>\n",
       "    </tr>\n",
       "  </thead>\n",
       "  <tbody>\n",
       "    <tr>\n",
       "      <th>0</th>\n",
       "      <td>1.0</td>\n",
       "      <td>1.0</td>\n",
       "      <td>0.0</td>\n",
       "    </tr>\n",
       "    <tr>\n",
       "      <th>1</th>\n",
       "      <td>1.0</td>\n",
       "      <td>1.0</td>\n",
       "      <td>0.0</td>\n",
       "    </tr>\n",
       "    <tr>\n",
       "      <th>2</th>\n",
       "      <td>0.0</td>\n",
       "      <td>0.0</td>\n",
       "      <td>0.0</td>\n",
       "    </tr>\n",
       "    <tr>\n",
       "      <th>3</th>\n",
       "      <td>0.0</td>\n",
       "      <td>0.0</td>\n",
       "      <td>0.0</td>\n",
       "    </tr>\n",
       "    <tr>\n",
       "      <th>5</th>\n",
       "      <td>1.0</td>\n",
       "      <td>1.0</td>\n",
       "      <td>1.0</td>\n",
       "    </tr>\n",
       "  </tbody>\n",
       "</table>\n",
       "</div>"
      ],
      "text/plain": [
       "   Female Tasks  Male Maternity  Pressure\n",
       "0           1.0             1.0       0.0\n",
       "1           1.0             1.0       0.0\n",
       "2           0.0             0.0       0.0\n",
       "3           0.0             0.0       0.0\n",
       "5           1.0             1.0       1.0"
      ]
     },
     "execution_count": 58,
     "metadata": {},
     "output_type": "execute_result"
    }
   ],
   "source": [
    "percentage = lambda x, y: x / y * 100\n",
    "\n",
    "df_equal = df.loc[df['Unequal'] == 0, ['Female Tasks', 'Male Maternity', 'Pressure']]\n",
    "total_equal = len(df_equal)\n",
    "\n",
    "print('% Equal: {0}'.format(percentage(total_equal, total)))\n",
    "\n",
    "df_equal.head()"
   ]
  },
  {
   "cell_type": "markdown",
   "metadata": {},
   "source": [
    "Let's see what percentage of women who responded that their workplace is gender equal's workplaces are actually equal based off the columns we pulled out above."
   ]
  },
  {
   "cell_type": "code",
   "execution_count": 65,
   "metadata": {
    "collapsed": false
   },
   "outputs": [
    {
     "name": "stdout",
     "output_type": "stream",
     "text": [
      "Entries: 35 | Equal: 11 | % True Equal: 31.428571428571427\n"
     ]
    }
   ],
   "source": [
    "equal = len(df_equal.loc[(df_equal['Female Tasks'] == 0) & \n",
    "       (df_equal['Male Maternity'] == 1) & \n",
    "       (df_equal['Pressure'] == 0)])\n",
    "\n",
    "print(\"Entries: {0} | Equal: {1} | % True Equal: {2}\".format(total_equal, equal, percentage(equal, total_equal)))"
   ]
  },
  {
   "cell_type": "markdown",
   "metadata": {},
   "source": [
    "We can actually see that only 31% of women who responded that their workplace is gender equal's workplaces are equal based off the columns we pulled out above.\n",
    "\n",
    "Let's go a bit more visual and graph the total amount of women that responded that their workplace is gender equal next to the total amount of women in the same 'equal' sample responded that they have to do tasks that men don't have to do because they are a female and who feel a pressure to quit work after marriage."
   ]
  },
  {
   "cell_type": "code",
   "execution_count": 165,
   "metadata": {
    "collapsed": false
   },
   "outputs": [
    {
     "data": {
      "text/plain": [
       "<Container object of 3 artists>"
      ]
     },
     "execution_count": 165,
     "metadata": {},
     "output_type": "execute_result"
    },
    {
     "data": {
      "image/png": "[encoded data removed]",
      "text/plain": [
       "<matplotlib.figure.Figure at 0x7f6d699ef390>"
      ]
     },
     "metadata": {},
     "output_type": "display_data"
    }
   ],
   "source": [
    "equal_tasks_percentage = percentage(df_equal['Female Tasks'].sum(), total_equal)\n",
    "equal_pressure_percentage = percentage(df_equal['Pressure'].sum(), total_equal)\n",
    "\n",
    "y = [100, equal_tasks_percentage, equal_pressure_percentage]\n",
    "x = [0, 1, 2]\n",
    "x_ticks = ['Equal', 'Female Tasks', 'Pressure']\n",
    "y_ticks = range(0, 100, 10)\n",
    "title = 'A Graph to Show Women Who Both Said They Felt Equal and Indicated Unequal Treatment'\n",
    "\n",
    "draw_barchart(x, y, x_ticks, y_ticks, title)"
   ]
  },
  {
   "cell_type": "markdown",
   "metadata": {},
   "source": [
    "As we can see a lot of women who belive they are being treated equally also feel pressure to quit work after marriage. A fair few also have to do tasks that men don't because they are female."
   ]
  },
  {
   "cell_type": "markdown",
   "metadata": {},
   "source": [
    "## Unequal Sample\n",
    "Basic exploratory analysis on woman who responded that their workplace had gender equality."
   ]
  },
  {
   "cell_type": "markdown",
   "metadata": {},
   "source": [
    "Let's see what percentage of the respondants feel that they are treated unequally."
   ]
  },
  {
   "cell_type": "code",
   "execution_count": 31,
   "metadata": {
    "collapsed": false
   },
   "outputs": [
    {
     "name": "stdout",
     "output_type": "stream",
     "text": [
      "% Unequal: 31.372549019607842\n"
     ]
    },
    {
     "data": {
      "text/html": [
       "<div>\n",
       "<table border=\"1\" class=\"dataframe\">\n",
       "  <thead>\n",
       "    <tr style=\"text-align: right;\">\n",
       "      <th></th>\n",
       "      <th>Female Tasks</th>\n",
       "      <th>Male Maternity</th>\n",
       "      <th>Pressure</th>\n",
       "    </tr>\n",
       "  </thead>\n",
       "  <tbody>\n",
       "    <tr>\n",
       "      <th>4</th>\n",
       "      <td>1.0</td>\n",
       "      <td>0.0</td>\n",
       "      <td>1.0</td>\n",
       "    </tr>\n",
       "    <tr>\n",
       "      <th>8</th>\n",
       "      <td>1.0</td>\n",
       "      <td>0.0</td>\n",
       "      <td>1.0</td>\n",
       "    </tr>\n",
       "    <tr>\n",
       "      <th>9</th>\n",
       "      <td>1.0</td>\n",
       "      <td>1.0</td>\n",
       "      <td>1.0</td>\n",
       "    </tr>\n",
       "    <tr>\n",
       "      <th>10</th>\n",
       "      <td>1.0</td>\n",
       "      <td>0.0</td>\n",
       "      <td>1.0</td>\n",
       "    </tr>\n",
       "    <tr>\n",
       "      <th>11</th>\n",
       "      <td>1.0</td>\n",
       "      <td>0.0</td>\n",
       "      <td>0.0</td>\n",
       "    </tr>\n",
       "  </tbody>\n",
       "</table>\n",
       "</div>"
      ],
      "text/plain": [
       "    Female Tasks  Male Maternity  Pressure\n",
       "4            1.0             0.0       1.0\n",
       "8            1.0             0.0       1.0\n",
       "9            1.0             1.0       1.0\n",
       "10           1.0             0.0       1.0\n",
       "11           1.0             0.0       0.0"
      ]
     },
     "execution_count": 31,
     "metadata": {},
     "output_type": "execute_result"
    }
   ],
   "source": [
    "df_unequal = df.loc[df['Unequal'] == 1, ['Female Tasks', 'Male Maternity', 'Pressure']]\n",
    "total_unequal = len(df_unequal)\n",
    "\n",
    "print('% Unequal: {0}'.format(percentage(total_unequal, total)))\n",
    "\n",
    "df_unequal.head()"
   ]
  },
  {
   "cell_type": "markdown",
   "metadata": {},
   "source": [
    "It might be interesting to see what percentage of women who think they are being treated unequally answered agree to 'Female tasks', disagree to 'Male Maternity' and agree to 'Pressure'"
   ]
  },
  {
   "cell_type": "code",
   "execution_count": 80,
   "metadata": {
    "collapsed": false
   },
   "outputs": [
    {
     "name": "stdout",
     "output_type": "stream",
     "text": [
      "Female Tasks: 81.25 | Male Maternity: 56.25 | Pressure 56.25\n"
     ]
    }
   ],
   "source": [
    "female_tasks = percentage(df_unequal['Female Tasks'].value_counts()[1], total_unequal)\n",
    "male_maternity = percentage(df_unequal['Male Maternity'].value_counts()[0], total_unequal)\n",
    "unequal_pressure = percentage(df_unequal['Pressure'].value_counts()[1], total_unequal)\n",
    "print(\"Female Tasks: {0} | Male Maternity: {1} | Pressure {2}\".format(female_tasks, male_maternity, unequal_pressure))"
   ]
  },
  {
   "cell_type": "markdown",
   "metadata": {},
   "source": [
    "81%, a huge amount of them have to do things that males to do. Male maternity leave is not offered more than is offered and over half of them feel pressured to quit work after marriage. These factors definitely contribute to the feeling of gender inequality.\n",
    "\n",
    "Being made to do things that men don't have to do is definitely the big one here, as can be seen if we graph them."
   ]
  },
  {
   "cell_type": "code",
   "execution_count": 166,
   "metadata": {
    "collapsed": false
   },
   "outputs": [
    {
     "data": {
      "text/plain": [
       "<Container object of 3 artists>"
      ]
     },
     "execution_count": 166,
     "metadata": {},
     "output_type": "execute_result"
    },
    {
     "data": {
      "image/png": "[encoded data removed]",
      "text/plain": [
       "<matplotlib.figure.Figure at 0x7f6d6a60fda0>"
      ]
     },
     "metadata": {},
     "output_type": "display_data"
    }
   ],
   "source": [
    "unequal_tasks_percentage = percentage(df_unequal['Female Tasks'].sum(), total_unequal)\n",
    "unequal_malemat_percentage = percentage(df_unequal['Male Maternity'].sum(), total_unequal)\n",
    "unequal_pressure_percentage = percentage(df_unequal['Pressure'].sum(), total_unequal)\n",
    "\n",
    "y = [unequal_tasks_percentage, unequal_malemat_percentage, unequal_pressure_percentage]\n",
    "x=[0, 1, 2]\n",
    "x_ticks = df_unequal.columns.values\n",
    "y_ticks = range(0, 100, 10)\n",
    "title = 'A Graph to Show Reasons Why Japanese Women Feel the Workplace is Unequal'\n",
    "\n",
    "draw_barchart(x, y, x_ticks, y_ticks, title)"
   ]
  },
  {
   "cell_type": "markdown",
   "metadata": {},
   "source": [
    "## Skilled Sample\n",
    "Basic exploratory analysis on woman who responded that their job requires a degree or is skilled work."
   ]
  },
  {
   "cell_type": "markdown",
   "metadata": {},
   "source": [
    "As we can see below, over half of the respondants were in jobs which require a degree or is skilled work. This is less than I expected seems as Japan one of the countries with the highest levels of education amongst women."
   ]
  },
  {
   "cell_type": "code",
   "execution_count": 34,
   "metadata": {
    "collapsed": false
   },
   "outputs": [
    {
     "name": "stdout",
     "output_type": "stream",
     "text": [
      "% Skilled: 54.90196078431373\n"
     ]
    },
    {
     "data": {
      "text/html": [
       "<div>\n",
       "<table border=\"1\" class=\"dataframe\">\n",
       "  <thead>\n",
       "    <tr style=\"text-align: right;\">\n",
       "      <th></th>\n",
       "      <th>Skilled</th>\n",
       "      <th>More Women</th>\n",
       "      <th>Male Boss</th>\n",
       "      <th>Unequal</th>\n",
       "      <th>Disadvantaged</th>\n",
       "      <th>Female Tasks</th>\n",
       "      <th>Male Tasks</th>\n",
       "      <th>Managerial</th>\n",
       "      <th>Quit</th>\n",
       "      <th>Maternity</th>\n",
       "      <th>Male Maternity</th>\n",
       "      <th>Pressure</th>\n",
       "      <th>Age</th>\n",
       "    </tr>\n",
       "  </thead>\n",
       "  <tbody>\n",
       "    <tr>\n",
       "      <th>3</th>\n",
       "      <td>1.0</td>\n",
       "      <td>0.0</td>\n",
       "      <td>0.0</td>\n",
       "      <td>0.0</td>\n",
       "      <td>0.0</td>\n",
       "      <td>0.0</td>\n",
       "      <td>0.0</td>\n",
       "      <td>0.0</td>\n",
       "      <td>0.0</td>\n",
       "      <td>0.0</td>\n",
       "      <td>0.0</td>\n",
       "      <td>0.0</td>\n",
       "      <td>50~</td>\n",
       "    </tr>\n",
       "    <tr>\n",
       "      <th>4</th>\n",
       "      <td>1.0</td>\n",
       "      <td>0.0</td>\n",
       "      <td>1.0</td>\n",
       "      <td>1.0</td>\n",
       "      <td>1.0</td>\n",
       "      <td>1.0</td>\n",
       "      <td>0.0</td>\n",
       "      <td>1.0</td>\n",
       "      <td>0.0</td>\n",
       "      <td>0.0</td>\n",
       "      <td>0.0</td>\n",
       "      <td>1.0</td>\n",
       "      <td>30-39</td>\n",
       "    </tr>\n",
       "    <tr>\n",
       "      <th>5</th>\n",
       "      <td>1.0</td>\n",
       "      <td>1.0</td>\n",
       "      <td>1.0</td>\n",
       "      <td>0.0</td>\n",
       "      <td>0.0</td>\n",
       "      <td>1.0</td>\n",
       "      <td>0.0</td>\n",
       "      <td>0.0</td>\n",
       "      <td>0.0</td>\n",
       "      <td>1.0</td>\n",
       "      <td>1.0</td>\n",
       "      <td>1.0</td>\n",
       "      <td>20-29</td>\n",
       "    </tr>\n",
       "    <tr>\n",
       "      <th>8</th>\n",
       "      <td>1.0</td>\n",
       "      <td>0.0</td>\n",
       "      <td>1.0</td>\n",
       "      <td>1.0</td>\n",
       "      <td>0.0</td>\n",
       "      <td>1.0</td>\n",
       "      <td>1.0</td>\n",
       "      <td>0.0</td>\n",
       "      <td>0.0</td>\n",
       "      <td>0.0</td>\n",
       "      <td>0.0</td>\n",
       "      <td>1.0</td>\n",
       "      <td>~19</td>\n",
       "    </tr>\n",
       "    <tr>\n",
       "      <th>14</th>\n",
       "      <td>1.0</td>\n",
       "      <td>0.0</td>\n",
       "      <td>1.0</td>\n",
       "      <td>1.0</td>\n",
       "      <td>0.0</td>\n",
       "      <td>1.0</td>\n",
       "      <td>1.0</td>\n",
       "      <td>1.0</td>\n",
       "      <td>0.0</td>\n",
       "      <td>0.0</td>\n",
       "      <td>0.0</td>\n",
       "      <td>0.0</td>\n",
       "      <td>50~</td>\n",
       "    </tr>\n",
       "  </tbody>\n",
       "</table>\n",
       "</div>"
      ],
      "text/plain": [
       "    Skilled  More Women  Male Boss  Unequal  Disadvantaged  Female Tasks  \\\n",
       "3       1.0         0.0        0.0      0.0            0.0           0.0   \n",
       "4       1.0         0.0        1.0      1.0            1.0           1.0   \n",
       "5       1.0         1.0        1.0      0.0            0.0           1.0   \n",
       "8       1.0         0.0        1.0      1.0            0.0           1.0   \n",
       "14      1.0         0.0        1.0      1.0            0.0           1.0   \n",
       "\n",
       "    Male Tasks  Managerial  Quit  Maternity  Male Maternity  Pressure    Age  \n",
       "3          0.0         0.0   0.0        0.0             0.0       0.0    50~  \n",
       "4          0.0         1.0   0.0        0.0             0.0       1.0  30-39  \n",
       "5          0.0         0.0   0.0        1.0             1.0       1.0  20-29  \n",
       "8          1.0         0.0   0.0        0.0             0.0       1.0    ~19  \n",
       "14         1.0         1.0   0.0        0.0             0.0       0.0    50~  "
      ]
     },
     "execution_count": 34,
     "metadata": {},
     "output_type": "execute_result"
    }
   ],
   "source": [
    "skilled = df.loc[df['Skilled'] == 1]\n",
    "total_skilled = len(skilled)\n",
    "\n",
    "print('% Skilled: {0}'.format(percentage(total_skilled, total)))\n",
    "\n",
    "skilled.head()"
   ]
  },
  {
   "cell_type": "markdown",
   "metadata": {},
   "source": [
    "If we take a look at what percentage of unskilled women also think that there is gender inequality in their workplace, we can see that a quarter of respondants beleive this. It would be interesting to compare this to UK or USA."
   ]
  },
  {
   "cell_type": "code",
   "execution_count": 35,
   "metadata": {
    "collapsed": false
   },
   "outputs": [
    {
     "name": "stdout",
     "output_type": "stream",
     "text": [
      "% Skilled, Unequal: 25.0\n"
     ]
    },
    {
     "data": {
      "text/html": [
       "<div>\n",
       "<table border=\"1\" class=\"dataframe\">\n",
       "  <thead>\n",
       "    <tr style=\"text-align: right;\">\n",
       "      <th></th>\n",
       "      <th>Skilled</th>\n",
       "      <th>More Women</th>\n",
       "      <th>Male Boss</th>\n",
       "      <th>Unequal</th>\n",
       "      <th>Disadvantaged</th>\n",
       "      <th>Female Tasks</th>\n",
       "      <th>Male Tasks</th>\n",
       "      <th>Managerial</th>\n",
       "      <th>Quit</th>\n",
       "      <th>Maternity</th>\n",
       "      <th>Male Maternity</th>\n",
       "      <th>Pressure</th>\n",
       "      <th>Age</th>\n",
       "    </tr>\n",
       "  </thead>\n",
       "  <tbody>\n",
       "    <tr>\n",
       "      <th>4</th>\n",
       "      <td>1.0</td>\n",
       "      <td>0.0</td>\n",
       "      <td>1.0</td>\n",
       "      <td>1.0</td>\n",
       "      <td>1.0</td>\n",
       "      <td>1.0</td>\n",
       "      <td>0.0</td>\n",
       "      <td>1.0</td>\n",
       "      <td>0.0</td>\n",
       "      <td>0.0</td>\n",
       "      <td>0.0</td>\n",
       "      <td>1.0</td>\n",
       "      <td>30-39</td>\n",
       "    </tr>\n",
       "    <tr>\n",
       "      <th>8</th>\n",
       "      <td>1.0</td>\n",
       "      <td>0.0</td>\n",
       "      <td>1.0</td>\n",
       "      <td>1.0</td>\n",
       "      <td>0.0</td>\n",
       "      <td>1.0</td>\n",
       "      <td>1.0</td>\n",
       "      <td>0.0</td>\n",
       "      <td>0.0</td>\n",
       "      <td>0.0</td>\n",
       "      <td>0.0</td>\n",
       "      <td>1.0</td>\n",
       "      <td>~19</td>\n",
       "    </tr>\n",
       "    <tr>\n",
       "      <th>14</th>\n",
       "      <td>1.0</td>\n",
       "      <td>0.0</td>\n",
       "      <td>1.0</td>\n",
       "      <td>1.0</td>\n",
       "      <td>0.0</td>\n",
       "      <td>1.0</td>\n",
       "      <td>1.0</td>\n",
       "      <td>1.0</td>\n",
       "      <td>0.0</td>\n",
       "      <td>0.0</td>\n",
       "      <td>0.0</td>\n",
       "      <td>0.0</td>\n",
       "      <td>50~</td>\n",
       "    </tr>\n",
       "    <tr>\n",
       "      <th>16</th>\n",
       "      <td>1.0</td>\n",
       "      <td>1.0</td>\n",
       "      <td>1.0</td>\n",
       "      <td>1.0</td>\n",
       "      <td>0.0</td>\n",
       "      <td>1.0</td>\n",
       "      <td>1.0</td>\n",
       "      <td>1.0</td>\n",
       "      <td>0.0</td>\n",
       "      <td>1.0</td>\n",
       "      <td>0.0</td>\n",
       "      <td>0.0</td>\n",
       "      <td>30-39</td>\n",
       "    </tr>\n",
       "    <tr>\n",
       "      <th>20</th>\n",
       "      <td>1.0</td>\n",
       "      <td>0.0</td>\n",
       "      <td>1.0</td>\n",
       "      <td>1.0</td>\n",
       "      <td>0.0</td>\n",
       "      <td>0.0</td>\n",
       "      <td>0.0</td>\n",
       "      <td>0.0</td>\n",
       "      <td>0.0</td>\n",
       "      <td>1.0</td>\n",
       "      <td>1.0</td>\n",
       "      <td>0.0</td>\n",
       "      <td>20-29</td>\n",
       "    </tr>\n",
       "  </tbody>\n",
       "</table>\n",
       "</div>"
      ],
      "text/plain": [
       "    Skilled  More Women  Male Boss  Unequal  Disadvantaged  Female Tasks  \\\n",
       "4       1.0         0.0        1.0      1.0            1.0           1.0   \n",
       "8       1.0         0.0        1.0      1.0            0.0           1.0   \n",
       "14      1.0         0.0        1.0      1.0            0.0           1.0   \n",
       "16      1.0         1.0        1.0      1.0            0.0           1.0   \n",
       "20      1.0         0.0        1.0      1.0            0.0           0.0   \n",
       "\n",
       "    Male Tasks  Managerial  Quit  Maternity  Male Maternity  Pressure    Age  \n",
       "4          0.0         1.0   0.0        0.0             0.0       1.0  30-39  \n",
       "8          1.0         0.0   0.0        0.0             0.0       1.0    ~19  \n",
       "14         1.0         1.0   0.0        0.0             0.0       0.0    50~  \n",
       "16         1.0         1.0   0.0        1.0             0.0       0.0  30-39  \n",
       "20         0.0         0.0   0.0        1.0             1.0       0.0  20-29  "
      ]
     },
     "execution_count": 35,
     "metadata": {},
     "output_type": "execute_result"
    }
   ],
   "source": [
    "skilled_unequal = df.loc[(df['Skilled'] == 1) & (df['Unequal'] == 1)]\n",
    "total_skilled_unequal = len(skilled_unequal)\n",
    "\n",
    "print('% Skilled, Unequal: {0}'.format(percentage(total_skilled_unequal, total_skilled)))\n",
    "\n",
    "skilled_unequal.head()"
   ]
  },
  {
   "cell_type": "markdown",
   "metadata": {},
   "source": [
    "And if we look at how many feel pressure to quit work after marriage, more of them actually agree with this than their workplace is unequal. Again, this doesn't match up."
   ]
  },
  {
   "cell_type": "code",
   "execution_count": 36,
   "metadata": {
    "collapsed": false
   },
   "outputs": [
    {
     "name": "stdout",
     "output_type": "stream",
     "text": [
      "% Skilled, Pressure: 32.142857142857146\n"
     ]
    },
    {
     "data": {
      "text/html": [
       "<div>\n",
       "<table border=\"1\" class=\"dataframe\">\n",
       "  <thead>\n",
       "    <tr style=\"text-align: right;\">\n",
       "      <th></th>\n",
       "      <th>Skilled</th>\n",
       "      <th>More Women</th>\n",
       "      <th>Male Boss</th>\n",
       "      <th>Unequal</th>\n",
       "      <th>Disadvantaged</th>\n",
       "      <th>Female Tasks</th>\n",
       "      <th>Male Tasks</th>\n",
       "      <th>Managerial</th>\n",
       "      <th>Quit</th>\n",
       "      <th>Maternity</th>\n",
       "      <th>Male Maternity</th>\n",
       "      <th>Pressure</th>\n",
       "      <th>Age</th>\n",
       "    </tr>\n",
       "  </thead>\n",
       "  <tbody>\n",
       "    <tr>\n",
       "      <th>4</th>\n",
       "      <td>1.0</td>\n",
       "      <td>0.0</td>\n",
       "      <td>1.0</td>\n",
       "      <td>1.0</td>\n",
       "      <td>1.0</td>\n",
       "      <td>1.0</td>\n",
       "      <td>0.0</td>\n",
       "      <td>1.0</td>\n",
       "      <td>0.0</td>\n",
       "      <td>0.0</td>\n",
       "      <td>0.0</td>\n",
       "      <td>1.0</td>\n",
       "      <td>30-39</td>\n",
       "    </tr>\n",
       "    <tr>\n",
       "      <th>5</th>\n",
       "      <td>1.0</td>\n",
       "      <td>1.0</td>\n",
       "      <td>1.0</td>\n",
       "      <td>0.0</td>\n",
       "      <td>0.0</td>\n",
       "      <td>1.0</td>\n",
       "      <td>0.0</td>\n",
       "      <td>0.0</td>\n",
       "      <td>0.0</td>\n",
       "      <td>1.0</td>\n",
       "      <td>1.0</td>\n",
       "      <td>1.0</td>\n",
       "      <td>20-29</td>\n",
       "    </tr>\n",
       "    <tr>\n",
       "      <th>8</th>\n",
       "      <td>1.0</td>\n",
       "      <td>0.0</td>\n",
       "      <td>1.0</td>\n",
       "      <td>1.0</td>\n",
       "      <td>0.0</td>\n",
       "      <td>1.0</td>\n",
       "      <td>1.0</td>\n",
       "      <td>0.0</td>\n",
       "      <td>0.0</td>\n",
       "      <td>0.0</td>\n",
       "      <td>0.0</td>\n",
       "      <td>1.0</td>\n",
       "      <td>~19</td>\n",
       "    </tr>\n",
       "    <tr>\n",
       "      <th>17</th>\n",
       "      <td>1.0</td>\n",
       "      <td>1.0</td>\n",
       "      <td>1.0</td>\n",
       "      <td>0.0</td>\n",
       "      <td>0.0</td>\n",
       "      <td>0.0</td>\n",
       "      <td>0.0</td>\n",
       "      <td>0.0</td>\n",
       "      <td>0.0</td>\n",
       "      <td>1.0</td>\n",
       "      <td>1.0</td>\n",
       "      <td>1.0</td>\n",
       "      <td>20-29</td>\n",
       "    </tr>\n",
       "    <tr>\n",
       "      <th>26</th>\n",
       "      <td>1.0</td>\n",
       "      <td>1.0</td>\n",
       "      <td>0.0</td>\n",
       "      <td>1.0</td>\n",
       "      <td>0.0</td>\n",
       "      <td>1.0</td>\n",
       "      <td>1.0</td>\n",
       "      <td>0.0</td>\n",
       "      <td>0.0</td>\n",
       "      <td>1.0</td>\n",
       "      <td>1.0</td>\n",
       "      <td>1.0</td>\n",
       "      <td>50~</td>\n",
       "    </tr>\n",
       "  </tbody>\n",
       "</table>\n",
       "</div>"
      ],
      "text/plain": [
       "    Skilled  More Women  Male Boss  Unequal  Disadvantaged  Female Tasks  \\\n",
       "4       1.0         0.0        1.0      1.0            1.0           1.0   \n",
       "5       1.0         1.0        1.0      0.0            0.0           1.0   \n",
       "8       1.0         0.0        1.0      1.0            0.0           1.0   \n",
       "17      1.0         1.0        1.0      0.0            0.0           0.0   \n",
       "26      1.0         1.0        0.0      1.0            0.0           1.0   \n",
       "\n",
       "    Male Tasks  Managerial  Quit  Maternity  Male Maternity  Pressure    Age  \n",
       "4          0.0         1.0   0.0        0.0             0.0       1.0  30-39  \n",
       "5          0.0         0.0   0.0        1.0             1.0       1.0  20-29  \n",
       "8          1.0         0.0   0.0        0.0             0.0       1.0    ~19  \n",
       "17         0.0         0.0   0.0        1.0             1.0       1.0  20-29  \n",
       "26         1.0         0.0   0.0        1.0             1.0       1.0    50~  "
      ]
     },
     "execution_count": 36,
     "metadata": {},
     "output_type": "execute_result"
    }
   ],
   "source": [
    "skilled_pressure = df.loc[(df['Skilled'] == 1) & (df['Pressure'] == 1)]\n",
    "total_skilled_pressure = len(skilled_pressure)\n",
    "\n",
    "print('% Skilled, Pressure: {0}'.format(percentage(total_skilled_pressure, total_skilled)))\n",
    "\n",
    "skilled_pressure.head()"
   ]
  },
  {
   "cell_type": "markdown",
   "metadata": {},
   "source": [
    "When we look at how many skilled women feel disadvantaged because of the fact they are a women, compared to other answers a relatively small percentage comes out."
   ]
  },
  {
   "cell_type": "code",
   "execution_count": 37,
   "metadata": {
    "collapsed": false
   },
   "outputs": [
    {
     "name": "stdout",
     "output_type": "stream",
     "text": [
      "% Skilled, Disadvantaged: 10.714285714285714\n"
     ]
    },
    {
     "data": {
      "text/html": [
       "<div>\n",
       "<table border=\"1\" class=\"dataframe\">\n",
       "  <thead>\n",
       "    <tr style=\"text-align: right;\">\n",
       "      <th></th>\n",
       "      <th>Skilled</th>\n",
       "      <th>More Women</th>\n",
       "      <th>Male Boss</th>\n",
       "      <th>Unequal</th>\n",
       "      <th>Disadvantaged</th>\n",
       "      <th>Female Tasks</th>\n",
       "      <th>Male Tasks</th>\n",
       "      <th>Managerial</th>\n",
       "      <th>Quit</th>\n",
       "      <th>Maternity</th>\n",
       "      <th>Male Maternity</th>\n",
       "      <th>Pressure</th>\n",
       "      <th>Age</th>\n",
       "    </tr>\n",
       "  </thead>\n",
       "  <tbody>\n",
       "    <tr>\n",
       "      <th>4</th>\n",
       "      <td>1.0</td>\n",
       "      <td>0.0</td>\n",
       "      <td>1.0</td>\n",
       "      <td>1.0</td>\n",
       "      <td>1.0</td>\n",
       "      <td>1.0</td>\n",
       "      <td>0.0</td>\n",
       "      <td>1.0</td>\n",
       "      <td>0.0</td>\n",
       "      <td>0.0</td>\n",
       "      <td>0.0</td>\n",
       "      <td>1.0</td>\n",
       "      <td>30-39</td>\n",
       "    </tr>\n",
       "    <tr>\n",
       "      <th>32</th>\n",
       "      <td>1.0</td>\n",
       "      <td>1.0</td>\n",
       "      <td>0.0</td>\n",
       "      <td>0.0</td>\n",
       "      <td>1.0</td>\n",
       "      <td>0.0</td>\n",
       "      <td>0.0</td>\n",
       "      <td>0.0</td>\n",
       "      <td>0.0</td>\n",
       "      <td>1.0</td>\n",
       "      <td>0.0</td>\n",
       "      <td>0.0</td>\n",
       "      <td>40-49</td>\n",
       "    </tr>\n",
       "    <tr>\n",
       "      <th>40</th>\n",
       "      <td>1.0</td>\n",
       "      <td>1.0</td>\n",
       "      <td>0.0</td>\n",
       "      <td>0.0</td>\n",
       "      <td>1.0</td>\n",
       "      <td>0.0</td>\n",
       "      <td>0.0</td>\n",
       "      <td>0.0</td>\n",
       "      <td>1.0</td>\n",
       "      <td>1.0</td>\n",
       "      <td>1.0</td>\n",
       "      <td>0.0</td>\n",
       "      <td>50~</td>\n",
       "    </tr>\n",
       "  </tbody>\n",
       "</table>\n",
       "</div>"
      ],
      "text/plain": [
       "    Skilled  More Women  Male Boss  Unequal  Disadvantaged  Female Tasks  \\\n",
       "4       1.0         0.0        1.0      1.0            1.0           1.0   \n",
       "32      1.0         1.0        0.0      0.0            1.0           0.0   \n",
       "40      1.0         1.0        0.0      0.0            1.0           0.0   \n",
       "\n",
       "    Male Tasks  Managerial  Quit  Maternity  Male Maternity  Pressure    Age  \n",
       "4          0.0         1.0   0.0        0.0             0.0       1.0  30-39  \n",
       "32         0.0         0.0   0.0        1.0             0.0       0.0  40-49  \n",
       "40         0.0         0.0   1.0        1.0             1.0       0.0    50~  "
      ]
     },
     "execution_count": 37,
     "metadata": {},
     "output_type": "execute_result"
    }
   ],
   "source": [
    "skilled_disadv = df.loc[(df['Skilled'] == 1) & (df['Disadvantaged'] == 1)]\n",
    "total_skilled_disadv = len(skilled_disadv)\n",
    "\n",
    "print('% Skilled, Disadvantaged: {0}'.format(percentage(total_skilled_disadv, total_skilled)))\n",
    "\n",
    "skilled_disadv.head()"
   ]
  },
  {
   "cell_type": "markdown",
   "metadata": {},
   "source": [
    "## Unskilled sample\n",
    "Basic exploratory analysis on woman who responded that their job does not require a degree and is not skilled work."
   ]
  },
  {
   "cell_type": "code",
   "execution_count": 38,
   "metadata": {
    "collapsed": false
   },
   "outputs": [
    {
     "name": "stdout",
     "output_type": "stream",
     "text": [
      "% Unskilled: 45.09803921568628\n"
     ]
    },
    {
     "data": {
      "text/html": [
       "<div>\n",
       "<table border=\"1\" class=\"dataframe\">\n",
       "  <thead>\n",
       "    <tr style=\"text-align: right;\">\n",
       "      <th></th>\n",
       "      <th>Skilled</th>\n",
       "      <th>More Women</th>\n",
       "      <th>Male Boss</th>\n",
       "      <th>Unequal</th>\n",
       "      <th>Disadvantaged</th>\n",
       "      <th>Female Tasks</th>\n",
       "      <th>Male Tasks</th>\n",
       "      <th>Managerial</th>\n",
       "      <th>Quit</th>\n",
       "      <th>Maternity</th>\n",
       "      <th>Male Maternity</th>\n",
       "      <th>Pressure</th>\n",
       "      <th>Age</th>\n",
       "    </tr>\n",
       "  </thead>\n",
       "  <tbody>\n",
       "    <tr>\n",
       "      <th>0</th>\n",
       "      <td>0.0</td>\n",
       "      <td>0.0</td>\n",
       "      <td>0.0</td>\n",
       "      <td>0.0</td>\n",
       "      <td>1.0</td>\n",
       "      <td>1.0</td>\n",
       "      <td>0.0</td>\n",
       "      <td>1.0</td>\n",
       "      <td>0.0</td>\n",
       "      <td>1.0</td>\n",
       "      <td>1.0</td>\n",
       "      <td>0.0</td>\n",
       "      <td>40-49</td>\n",
       "    </tr>\n",
       "    <tr>\n",
       "      <th>1</th>\n",
       "      <td>0.0</td>\n",
       "      <td>0.0</td>\n",
       "      <td>1.0</td>\n",
       "      <td>0.0</td>\n",
       "      <td>0.0</td>\n",
       "      <td>1.0</td>\n",
       "      <td>0.0</td>\n",
       "      <td>1.0</td>\n",
       "      <td>0.0</td>\n",
       "      <td>1.0</td>\n",
       "      <td>1.0</td>\n",
       "      <td>0.0</td>\n",
       "      <td>20-29</td>\n",
       "    </tr>\n",
       "    <tr>\n",
       "      <th>2</th>\n",
       "      <td>0.0</td>\n",
       "      <td>1.0</td>\n",
       "      <td>0.0</td>\n",
       "      <td>0.0</td>\n",
       "      <td>0.0</td>\n",
       "      <td>0.0</td>\n",
       "      <td>0.0</td>\n",
       "      <td>0.0</td>\n",
       "      <td>0.0</td>\n",
       "      <td>1.0</td>\n",
       "      <td>0.0</td>\n",
       "      <td>0.0</td>\n",
       "      <td>20-29</td>\n",
       "    </tr>\n",
       "    <tr>\n",
       "      <th>6</th>\n",
       "      <td>0.0</td>\n",
       "      <td>0.0</td>\n",
       "      <td>0.0</td>\n",
       "      <td>0.0</td>\n",
       "      <td>0.0</td>\n",
       "      <td>0.0</td>\n",
       "      <td>0.0</td>\n",
       "      <td>1.0</td>\n",
       "      <td>0.0</td>\n",
       "      <td>1.0</td>\n",
       "      <td>0.0</td>\n",
       "      <td>0.0</td>\n",
       "      <td>20-29</td>\n",
       "    </tr>\n",
       "    <tr>\n",
       "      <th>7</th>\n",
       "      <td>0.0</td>\n",
       "      <td>0.0</td>\n",
       "      <td>1.0</td>\n",
       "      <td>0.0</td>\n",
       "      <td>0.0</td>\n",
       "      <td>0.0</td>\n",
       "      <td>0.0</td>\n",
       "      <td>0.0</td>\n",
       "      <td>0.0</td>\n",
       "      <td>1.0</td>\n",
       "      <td>0.0</td>\n",
       "      <td>1.0</td>\n",
       "      <td>20-29</td>\n",
       "    </tr>\n",
       "  </tbody>\n",
       "</table>\n",
       "</div>"
      ],
      "text/plain": [
       "   Skilled  More Women  Male Boss  Unequal  Disadvantaged  Female Tasks  \\\n",
       "0      0.0         0.0        0.0      0.0            1.0           1.0   \n",
       "1      0.0         0.0        1.0      0.0            0.0           1.0   \n",
       "2      0.0         1.0        0.0      0.0            0.0           0.0   \n",
       "6      0.0         0.0        0.0      0.0            0.0           0.0   \n",
       "7      0.0         0.0        1.0      0.0            0.0           0.0   \n",
       "\n",
       "   Male Tasks  Managerial  Quit  Maternity  Male Maternity  Pressure    Age  \n",
       "0         0.0         1.0   0.0        1.0             1.0       0.0  40-49  \n",
       "1         0.0         1.0   0.0        1.0             1.0       0.0  20-29  \n",
       "2         0.0         0.0   0.0        1.0             0.0       0.0  20-29  \n",
       "6         0.0         1.0   0.0        1.0             0.0       0.0  20-29  \n",
       "7         0.0         0.0   0.0        1.0             0.0       1.0  20-29  "
      ]
     },
     "execution_count": 38,
     "metadata": {},
     "output_type": "execute_result"
    }
   ],
   "source": [
    "unskilled = df.loc[df['Skilled'] == 0]\n",
    "total_unskilled = len(unskilled)\n",
    "\n",
    "print('% Unskilled: {0}'.format(percentage(total_unskilled, total)))\n",
    "\n",
    "unskilled.head()"
   ]
  },
  {
   "cell_type": "markdown",
   "metadata": {},
   "source": [
    "Almost 15% more of this group of women feel that their workplace has gender inequality than women in jobs requireing a degree or that is skilled work. Does this mean that in workplaces that require degrees and skilled work there is less of a gender gap?"
   ]
  },
  {
   "cell_type": "code",
   "execution_count": 39,
   "metadata": {
    "collapsed": false,
    "scrolled": true
   },
   "outputs": [
    {
     "name": "stdout",
     "output_type": "stream",
     "text": [
      "% Unskilled, Equal: 39.130434782608695\n"
     ]
    },
    {
     "data": {
      "text/html": [
       "<div>\n",
       "<table border=\"1\" class=\"dataframe\">\n",
       "  <thead>\n",
       "    <tr style=\"text-align: right;\">\n",
       "      <th></th>\n",
       "      <th>Skilled</th>\n",
       "      <th>More Women</th>\n",
       "      <th>Male Boss</th>\n",
       "      <th>Unequal</th>\n",
       "      <th>Disadvantaged</th>\n",
       "      <th>Female Tasks</th>\n",
       "      <th>Male Tasks</th>\n",
       "      <th>Managerial</th>\n",
       "      <th>Quit</th>\n",
       "      <th>Maternity</th>\n",
       "      <th>Male Maternity</th>\n",
       "      <th>Pressure</th>\n",
       "      <th>Age</th>\n",
       "    </tr>\n",
       "  </thead>\n",
       "  <tbody>\n",
       "    <tr>\n",
       "      <th>9</th>\n",
       "      <td>0.0</td>\n",
       "      <td>0.0</td>\n",
       "      <td>1.0</td>\n",
       "      <td>1.0</td>\n",
       "      <td>0.0</td>\n",
       "      <td>1.0</td>\n",
       "      <td>0.0</td>\n",
       "      <td>0.0</td>\n",
       "      <td>1.0</td>\n",
       "      <td>1.0</td>\n",
       "      <td>1.0</td>\n",
       "      <td>1.0</td>\n",
       "      <td>20-29</td>\n",
       "    </tr>\n",
       "    <tr>\n",
       "      <th>10</th>\n",
       "      <td>0.0</td>\n",
       "      <td>0.0</td>\n",
       "      <td>1.0</td>\n",
       "      <td>1.0</td>\n",
       "      <td>1.0</td>\n",
       "      <td>1.0</td>\n",
       "      <td>0.0</td>\n",
       "      <td>1.0</td>\n",
       "      <td>0.0</td>\n",
       "      <td>1.0</td>\n",
       "      <td>0.0</td>\n",
       "      <td>1.0</td>\n",
       "      <td>30-39</td>\n",
       "    </tr>\n",
       "    <tr>\n",
       "      <th>11</th>\n",
       "      <td>0.0</td>\n",
       "      <td>1.0</td>\n",
       "      <td>1.0</td>\n",
       "      <td>1.0</td>\n",
       "      <td>0.0</td>\n",
       "      <td>1.0</td>\n",
       "      <td>0.0</td>\n",
       "      <td>1.0</td>\n",
       "      <td>0.0</td>\n",
       "      <td>1.0</td>\n",
       "      <td>0.0</td>\n",
       "      <td>0.0</td>\n",
       "      <td>20-29</td>\n",
       "    </tr>\n",
       "    <tr>\n",
       "      <th>12</th>\n",
       "      <td>0.0</td>\n",
       "      <td>0.0</td>\n",
       "      <td>1.0</td>\n",
       "      <td>1.0</td>\n",
       "      <td>1.0</td>\n",
       "      <td>1.0</td>\n",
       "      <td>0.0</td>\n",
       "      <td>1.0</td>\n",
       "      <td>0.0</td>\n",
       "      <td>1.0</td>\n",
       "      <td>0.0</td>\n",
       "      <td>1.0</td>\n",
       "      <td>40-49</td>\n",
       "    </tr>\n",
       "    <tr>\n",
       "      <th>27</th>\n",
       "      <td>0.0</td>\n",
       "      <td>0.0</td>\n",
       "      <td>1.0</td>\n",
       "      <td>1.0</td>\n",
       "      <td>1.0</td>\n",
       "      <td>1.0</td>\n",
       "      <td>1.0</td>\n",
       "      <td>1.0</td>\n",
       "      <td>1.0</td>\n",
       "      <td>1.0</td>\n",
       "      <td>1.0</td>\n",
       "      <td>1.0</td>\n",
       "      <td>50~</td>\n",
       "    </tr>\n",
       "  </tbody>\n",
       "</table>\n",
       "</div>"
      ],
      "text/plain": [
       "    Skilled  More Women  Male Boss  Unequal  Disadvantaged  Female Tasks  \\\n",
       "9       0.0         0.0        1.0      1.0            0.0           1.0   \n",
       "10      0.0         0.0        1.0      1.0            1.0           1.0   \n",
       "11      0.0         1.0        1.0      1.0            0.0           1.0   \n",
       "12      0.0         0.0        1.0      1.0            1.0           1.0   \n",
       "27      0.0         0.0        1.0      1.0            1.0           1.0   \n",
       "\n",
       "    Male Tasks  Managerial  Quit  Maternity  Male Maternity  Pressure    Age  \n",
       "9          0.0         0.0   1.0        1.0             1.0       1.0  20-29  \n",
       "10         0.0         1.0   0.0        1.0             0.0       1.0  30-39  \n",
       "11         0.0         1.0   0.0        1.0             0.0       0.0  20-29  \n",
       "12         0.0         1.0   0.0        1.0             0.0       1.0  40-49  \n",
       "27         1.0         1.0   1.0        1.0             1.0       1.0    50~  "
      ]
     },
     "execution_count": 39,
     "metadata": {},
     "output_type": "execute_result"
    }
   ],
   "source": [
    "unskilled_unequal = df.loc[(df['Skilled'] == 0) & (df['Unequal'] == 1)]\n",
    "total_unskilled_unequal = len(unskilled_unequal)\n",
    "\n",
    "print('% Unskilled, Equal: {0}'.format(percentage(total_unskilled_unequal, total_unskilled)))\n",
    "\n",
    "unskilled_unequal.head()"
   ]
  },
  {
   "cell_type": "markdown",
   "metadata": {},
   "source": [
    "Almost half of women who work unskilled work feel a pressure to quit after marriage which is shockingly high."
   ]
  },
  {
   "cell_type": "code",
   "execution_count": 40,
   "metadata": {
    "collapsed": false
   },
   "outputs": [
    {
     "name": "stdout",
     "output_type": "stream",
     "text": [
      "% Unskilled, Pressure: 43.47826086956522\n"
     ]
    },
    {
     "data": {
      "text/html": [
       "<div>\n",
       "<table border=\"1\" class=\"dataframe\">\n",
       "  <thead>\n",
       "    <tr style=\"text-align: right;\">\n",
       "      <th></th>\n",
       "      <th>Skilled</th>\n",
       "      <th>More Women</th>\n",
       "      <th>Male Boss</th>\n",
       "      <th>Unequal</th>\n",
       "      <th>Disadvantaged</th>\n",
       "      <th>Female Tasks</th>\n",
       "      <th>Male Tasks</th>\n",
       "      <th>Managerial</th>\n",
       "      <th>Quit</th>\n",
       "      <th>Maternity</th>\n",
       "      <th>Male Maternity</th>\n",
       "      <th>Pressure</th>\n",
       "      <th>Age</th>\n",
       "    </tr>\n",
       "  </thead>\n",
       "  <tbody>\n",
       "    <tr>\n",
       "      <th>7</th>\n",
       "      <td>0.0</td>\n",
       "      <td>0.0</td>\n",
       "      <td>1.0</td>\n",
       "      <td>0.0</td>\n",
       "      <td>0.0</td>\n",
       "      <td>0.0</td>\n",
       "      <td>0.0</td>\n",
       "      <td>0.0</td>\n",
       "      <td>0.0</td>\n",
       "      <td>1.0</td>\n",
       "      <td>0.0</td>\n",
       "      <td>1.0</td>\n",
       "      <td>20-29</td>\n",
       "    </tr>\n",
       "    <tr>\n",
       "      <th>9</th>\n",
       "      <td>0.0</td>\n",
       "      <td>0.0</td>\n",
       "      <td>1.0</td>\n",
       "      <td>1.0</td>\n",
       "      <td>0.0</td>\n",
       "      <td>1.0</td>\n",
       "      <td>0.0</td>\n",
       "      <td>0.0</td>\n",
       "      <td>1.0</td>\n",
       "      <td>1.0</td>\n",
       "      <td>1.0</td>\n",
       "      <td>1.0</td>\n",
       "      <td>20-29</td>\n",
       "    </tr>\n",
       "    <tr>\n",
       "      <th>10</th>\n",
       "      <td>0.0</td>\n",
       "      <td>0.0</td>\n",
       "      <td>1.0</td>\n",
       "      <td>1.0</td>\n",
       "      <td>1.0</td>\n",
       "      <td>1.0</td>\n",
       "      <td>0.0</td>\n",
       "      <td>1.0</td>\n",
       "      <td>0.0</td>\n",
       "      <td>1.0</td>\n",
       "      <td>0.0</td>\n",
       "      <td>1.0</td>\n",
       "      <td>30-39</td>\n",
       "    </tr>\n",
       "    <tr>\n",
       "      <th>12</th>\n",
       "      <td>0.0</td>\n",
       "      <td>0.0</td>\n",
       "      <td>1.0</td>\n",
       "      <td>1.0</td>\n",
       "      <td>1.0</td>\n",
       "      <td>1.0</td>\n",
       "      <td>0.0</td>\n",
       "      <td>1.0</td>\n",
       "      <td>0.0</td>\n",
       "      <td>1.0</td>\n",
       "      <td>0.0</td>\n",
       "      <td>1.0</td>\n",
       "      <td>40-49</td>\n",
       "    </tr>\n",
       "    <tr>\n",
       "      <th>13</th>\n",
       "      <td>0.0</td>\n",
       "      <td>0.0</td>\n",
       "      <td>1.0</td>\n",
       "      <td>0.0</td>\n",
       "      <td>0.0</td>\n",
       "      <td>1.0</td>\n",
       "      <td>1.0</td>\n",
       "      <td>0.0</td>\n",
       "      <td>1.0</td>\n",
       "      <td>1.0</td>\n",
       "      <td>0.0</td>\n",
       "      <td>1.0</td>\n",
       "      <td>20-29</td>\n",
       "    </tr>\n",
       "  </tbody>\n",
       "</table>\n",
       "</div>"
      ],
      "text/plain": [
       "    Skilled  More Women  Male Boss  Unequal  Disadvantaged  Female Tasks  \\\n",
       "7       0.0         0.0        1.0      0.0            0.0           0.0   \n",
       "9       0.0         0.0        1.0      1.0            0.0           1.0   \n",
       "10      0.0         0.0        1.0      1.0            1.0           1.0   \n",
       "12      0.0         0.0        1.0      1.0            1.0           1.0   \n",
       "13      0.0         0.0        1.0      0.0            0.0           1.0   \n",
       "\n",
       "    Male Tasks  Managerial  Quit  Maternity  Male Maternity  Pressure    Age  \n",
       "7          0.0         0.0   0.0        1.0             0.0       1.0  20-29  \n",
       "9          0.0         0.0   1.0        1.0             1.0       1.0  20-29  \n",
       "10         0.0         1.0   0.0        1.0             0.0       1.0  30-39  \n",
       "12         0.0         1.0   0.0        1.0             0.0       1.0  40-49  \n",
       "13         1.0         0.0   1.0        1.0             0.0       1.0  20-29  "
      ]
     },
     "execution_count": 40,
     "metadata": {},
     "output_type": "execute_result"
    }
   ],
   "source": [
    "unskilled_pressure = df.loc[(df['Skilled'] == 0) & (df['Pressure'] == 1)]\n",
    "total_unskilled_pressure = len(unskilled_pressure)\n",
    "\n",
    "print('% Unskilled, Pressure: {0}'.format(percentage(total_unskilled_pressure, total_unskilled)))\n",
    "\n",
    "unskilled_pressure.head()"
   ]
  },
  {
   "cell_type": "markdown",
   "metadata": {},
   "source": [
    "And again a high percentage of unskilled women workers feel the fact that they are a woman puts them at a disadvantage."
   ]
  },
  {
   "cell_type": "code",
   "execution_count": 41,
   "metadata": {
    "collapsed": false
   },
   "outputs": [
    {
     "name": "stdout",
     "output_type": "stream",
     "text": [
      "% Unskilled, Disadvantaged: 43.47826086956522\n"
     ]
    },
    {
     "data": {
      "text/html": [
       "<div>\n",
       "<table border=\"1\" class=\"dataframe\">\n",
       "  <thead>\n",
       "    <tr style=\"text-align: right;\">\n",
       "      <th></th>\n",
       "      <th>Skilled</th>\n",
       "      <th>More Women</th>\n",
       "      <th>Male Boss</th>\n",
       "      <th>Unequal</th>\n",
       "      <th>Disadvantaged</th>\n",
       "      <th>Female Tasks</th>\n",
       "      <th>Male Tasks</th>\n",
       "      <th>Managerial</th>\n",
       "      <th>Quit</th>\n",
       "      <th>Maternity</th>\n",
       "      <th>Male Maternity</th>\n",
       "      <th>Pressure</th>\n",
       "      <th>Age</th>\n",
       "    </tr>\n",
       "  </thead>\n",
       "  <tbody>\n",
       "    <tr>\n",
       "      <th>0</th>\n",
       "      <td>0.0</td>\n",
       "      <td>0.0</td>\n",
       "      <td>0.0</td>\n",
       "      <td>0.0</td>\n",
       "      <td>1.0</td>\n",
       "      <td>1.0</td>\n",
       "      <td>0.0</td>\n",
       "      <td>1.0</td>\n",
       "      <td>0.0</td>\n",
       "      <td>1.0</td>\n",
       "      <td>1.0</td>\n",
       "      <td>0.0</td>\n",
       "      <td>40-49</td>\n",
       "    </tr>\n",
       "    <tr>\n",
       "      <th>10</th>\n",
       "      <td>0.0</td>\n",
       "      <td>0.0</td>\n",
       "      <td>1.0</td>\n",
       "      <td>1.0</td>\n",
       "      <td>1.0</td>\n",
       "      <td>1.0</td>\n",
       "      <td>0.0</td>\n",
       "      <td>1.0</td>\n",
       "      <td>0.0</td>\n",
       "      <td>1.0</td>\n",
       "      <td>0.0</td>\n",
       "      <td>1.0</td>\n",
       "      <td>30-39</td>\n",
       "    </tr>\n",
       "    <tr>\n",
       "      <th>12</th>\n",
       "      <td>0.0</td>\n",
       "      <td>0.0</td>\n",
       "      <td>1.0</td>\n",
       "      <td>1.0</td>\n",
       "      <td>1.0</td>\n",
       "      <td>1.0</td>\n",
       "      <td>0.0</td>\n",
       "      <td>1.0</td>\n",
       "      <td>0.0</td>\n",
       "      <td>1.0</td>\n",
       "      <td>0.0</td>\n",
       "      <td>1.0</td>\n",
       "      <td>40-49</td>\n",
       "    </tr>\n",
       "    <tr>\n",
       "      <th>15</th>\n",
       "      <td>0.0</td>\n",
       "      <td>1.0</td>\n",
       "      <td>1.0</td>\n",
       "      <td>0.0</td>\n",
       "      <td>1.0</td>\n",
       "      <td>1.0</td>\n",
       "      <td>1.0</td>\n",
       "      <td>0.0</td>\n",
       "      <td>1.0</td>\n",
       "      <td>0.0</td>\n",
       "      <td>0.0</td>\n",
       "      <td>1.0</td>\n",
       "      <td>20-29</td>\n",
       "    </tr>\n",
       "    <tr>\n",
       "      <th>18</th>\n",
       "      <td>0.0</td>\n",
       "      <td>1.0</td>\n",
       "      <td>0.0</td>\n",
       "      <td>0.0</td>\n",
       "      <td>1.0</td>\n",
       "      <td>0.0</td>\n",
       "      <td>0.0</td>\n",
       "      <td>1.0</td>\n",
       "      <td>0.0</td>\n",
       "      <td>0.0</td>\n",
       "      <td>0.0</td>\n",
       "      <td>0.0</td>\n",
       "      <td>40-49</td>\n",
       "    </tr>\n",
       "  </tbody>\n",
       "</table>\n",
       "</div>"
      ],
      "text/plain": [
       "    Skilled  More Women  Male Boss  Unequal  Disadvantaged  Female Tasks  \\\n",
       "0       0.0         0.0        0.0      0.0            1.0           1.0   \n",
       "10      0.0         0.0        1.0      1.0            1.0           1.0   \n",
       "12      0.0         0.0        1.0      1.0            1.0           1.0   \n",
       "15      0.0         1.0        1.0      0.0            1.0           1.0   \n",
       "18      0.0         1.0        0.0      0.0            1.0           0.0   \n",
       "\n",
       "    Male Tasks  Managerial  Quit  Maternity  Male Maternity  Pressure    Age  \n",
       "0          0.0         1.0   0.0        1.0             1.0       0.0  40-49  \n",
       "10         0.0         1.0   0.0        1.0             0.0       1.0  30-39  \n",
       "12         0.0         1.0   0.0        1.0             0.0       1.0  40-49  \n",
       "15         1.0         0.0   1.0        0.0             0.0       1.0  20-29  \n",
       "18         0.0         1.0   0.0        0.0             0.0       0.0  40-49  "
      ]
     },
     "execution_count": 41,
     "metadata": {},
     "output_type": "execute_result"
    }
   ],
   "source": [
    "unskilled_disadv = df.loc[(df['Skilled'] == 0) & (df['Disadvantaged'] == 1)]\n",
    "total_unskilled_disadv = len(unskilled_disadv)\n",
    "\n",
    "print('% Unskilled, Disadvantaged: {0}'.format(percentage(total_unskilled_disadv, total_unskilled)))\n",
    "\n",
    "unskilled_disadv.head()"
   ]
  },
  {
   "cell_type": "markdown",
   "metadata": {
    "collapsed": true
   },
   "source": [
    "The percentage of skilled women that feel that there is unequal treatment vs unskilled women that feel that there is unequal treatment."
   ]
  },
  {
   "cell_type": "code",
   "execution_count": 167,
   "metadata": {
    "collapsed": false
   },
   "outputs": [
    {
     "data": {
      "text/plain": [
       "<Container object of 2 artists>"
      ]
     },
     "execution_count": 167,
     "metadata": {},
     "output_type": "execute_result"
    },
    {
     "data": {
      "image/png": "[encoded data removed]",
      "text/plain": [
       "<matplotlib.figure.Figure at 0x7f6d6993ff28>"
      ]
     },
     "metadata": {},
     "output_type": "display_data"
    }
   ],
   "source": [
    "percentage_skilled_unequal = percentage(total_skilled_unequal, total_skilled)\n",
    "percentage_unskilled_unequal = percentage(total_unskilled_unequal, total_unskilled)\n",
    "\n",
    "y = [percentage_skilled_unequal, percentage_unskilled_unequal]\n",
    "x = [0, 1]\n",
    "x_ticks = ['Skilled', 'Unskilled']\n",
    "y_ticks = range(0, 100, 10)\n",
    "title = 'A Graph to Show the Percentage of Skilled vs Unskilled Women Who Feel Unequal Treatment'\n",
    "\n",
    "draw_barchart(x, y, x_ticks, y_ticks, title)"
   ]
  },
  {
   "cell_type": "markdown",
   "metadata": {},
   "source": [
    "## Want to go into management sample\n",
    "Basic exploratory analysis on woman who responded that they would like to do a managerial role."
   ]
  },
  {
   "cell_type": "code",
   "execution_count": 70,
   "metadata": {
    "collapsed": false
   },
   "outputs": [
    {
     "name": "stdout",
     "output_type": "stream",
     "text": [
      "% Managerial: 37.254901960784316\n"
     ]
    },
    {
     "data": {
      "text/html": [
       "<div>\n",
       "<table border=\"1\" class=\"dataframe\">\n",
       "  <thead>\n",
       "    <tr style=\"text-align: right;\">\n",
       "      <th></th>\n",
       "      <th>Skilled</th>\n",
       "      <th>More Women</th>\n",
       "      <th>Male Boss</th>\n",
       "      <th>Unequal</th>\n",
       "      <th>Disadvantaged</th>\n",
       "      <th>Female Tasks</th>\n",
       "      <th>Male Tasks</th>\n",
       "      <th>Managerial</th>\n",
       "      <th>Quit</th>\n",
       "      <th>Maternity</th>\n",
       "      <th>Male Maternity</th>\n",
       "      <th>Pressure</th>\n",
       "      <th>Age</th>\n",
       "    </tr>\n",
       "  </thead>\n",
       "  <tbody>\n",
       "    <tr>\n",
       "      <th>0</th>\n",
       "      <td>0.0</td>\n",
       "      <td>0.0</td>\n",
       "      <td>0.0</td>\n",
       "      <td>0.0</td>\n",
       "      <td>1.0</td>\n",
       "      <td>1.0</td>\n",
       "      <td>0.0</td>\n",
       "      <td>1.0</td>\n",
       "      <td>0.0</td>\n",
       "      <td>1.0</td>\n",
       "      <td>1.0</td>\n",
       "      <td>0.0</td>\n",
       "      <td>40-49</td>\n",
       "    </tr>\n",
       "    <tr>\n",
       "      <th>1</th>\n",
       "      <td>0.0</td>\n",
       "      <td>0.0</td>\n",
       "      <td>1.0</td>\n",
       "      <td>0.0</td>\n",
       "      <td>0.0</td>\n",
       "      <td>1.0</td>\n",
       "      <td>0.0</td>\n",
       "      <td>1.0</td>\n",
       "      <td>0.0</td>\n",
       "      <td>1.0</td>\n",
       "      <td>1.0</td>\n",
       "      <td>0.0</td>\n",
       "      <td>20-29</td>\n",
       "    </tr>\n",
       "    <tr>\n",
       "      <th>2</th>\n",
       "      <td>0.0</td>\n",
       "      <td>1.0</td>\n",
       "      <td>0.0</td>\n",
       "      <td>0.0</td>\n",
       "      <td>0.0</td>\n",
       "      <td>0.0</td>\n",
       "      <td>0.0</td>\n",
       "      <td>0.0</td>\n",
       "      <td>0.0</td>\n",
       "      <td>1.0</td>\n",
       "      <td>0.0</td>\n",
       "      <td>0.0</td>\n",
       "      <td>20-29</td>\n",
       "    </tr>\n",
       "    <tr>\n",
       "      <th>3</th>\n",
       "      <td>1.0</td>\n",
       "      <td>0.0</td>\n",
       "      <td>0.0</td>\n",
       "      <td>0.0</td>\n",
       "      <td>0.0</td>\n",
       "      <td>0.0</td>\n",
       "      <td>0.0</td>\n",
       "      <td>0.0</td>\n",
       "      <td>0.0</td>\n",
       "      <td>0.0</td>\n",
       "      <td>0.0</td>\n",
       "      <td>0.0</td>\n",
       "      <td>50~</td>\n",
       "    </tr>\n",
       "    <tr>\n",
       "      <th>4</th>\n",
       "      <td>1.0</td>\n",
       "      <td>0.0</td>\n",
       "      <td>1.0</td>\n",
       "      <td>1.0</td>\n",
       "      <td>1.0</td>\n",
       "      <td>1.0</td>\n",
       "      <td>0.0</td>\n",
       "      <td>1.0</td>\n",
       "      <td>0.0</td>\n",
       "      <td>0.0</td>\n",
       "      <td>0.0</td>\n",
       "      <td>1.0</td>\n",
       "      <td>30-39</td>\n",
       "    </tr>\n",
       "  </tbody>\n",
       "</table>\n",
       "</div>"
      ],
      "text/plain": [
       "   Skilled  More Women  Male Boss  Unequal  Disadvantaged  Female Tasks  \\\n",
       "0      0.0         0.0        0.0      0.0            1.0           1.0   \n",
       "1      0.0         0.0        1.0      0.0            0.0           1.0   \n",
       "2      0.0         1.0        0.0      0.0            0.0           0.0   \n",
       "3      1.0         0.0        0.0      0.0            0.0           0.0   \n",
       "4      1.0         0.0        1.0      1.0            1.0           1.0   \n",
       "\n",
       "   Male Tasks  Managerial  Quit  Maternity  Male Maternity  Pressure    Age  \n",
       "0         0.0         1.0   0.0        1.0             1.0       0.0  40-49  \n",
       "1         0.0         1.0   0.0        1.0             1.0       0.0  20-29  \n",
       "2         0.0         0.0   0.0        1.0             0.0       0.0  20-29  \n",
       "3         0.0         0.0   0.0        0.0             0.0       0.0    50~  \n",
       "4         0.0         1.0   0.0        0.0             0.0       1.0  30-39  "
      ]
     },
     "execution_count": 70,
     "metadata": {},
     "output_type": "execute_result"
    }
   ],
   "source": [
    "managerial = df[df['Managerial'] == 1]\n",
    "total_managerial = len(managerial)\n",
    "\n",
    "print('% Managerial: {0}'.format(percentage(total_managerial, total)))\n",
    "\n",
    "df.head()"
   ]
  },
  {
   "cell_type": "markdown",
   "metadata": {},
   "source": [
    "37% of women who responded would like to do a managerial job, but if we compare that to respondants who either had a female boss or were the female boss there is a gap. However there is less of a gap in this sample than I would have imagined."
   ]
  },
  {
   "cell_type": "code",
   "execution_count": 168,
   "metadata": {
    "collapsed": false,
    "scrolled": false
   },
   "outputs": [
    {
     "data": {
      "text/plain": [
       "<Container object of 2 artists>"
      ]
     },
     "execution_count": 168,
     "metadata": {},
     "output_type": "execute_result"
    },
    {
     "data": {
      "image/png": "[encoded data removed]",
      "text/plain": [
       "<matplotlib.figure.Figure at 0x7f6d69b59240>"
      ]
     },
     "metadata": {},
     "output_type": "display_data"
    }
   ],
   "source": [
    "female_boss = df[df['Male Boss'] == 0]\n",
    "total_female_boss = len(male_boss)\n",
    "\n",
    "y = [percentage(total_managerial, total), percentage(total_female_boss, total)]\n",
    "x = [0, 1]\n",
    "x_ticks = ['Managerial Aspirations', 'Female Boss']\n",
    "y_ticks = range(0, 100, 10)\n",
    "title = 'A graph to show the difference between women aspiring for managerial positions vs women in managerial positions'\n",
    "\n",
    "draw_barchart(x, y, x_ticks, y_ticks, title)"
   ]
  },
  {
   "cell_type": "markdown",
   "metadata": {},
   "source": [
    "## Want to quit work after marriage sample"
   ]
  },
  {
   "cell_type": "markdown",
   "metadata": {},
   "source": [
    "In this dataset only around 12% of women who responded said that they want to (or did) quit after marriage, which is less than I expected."
   ]
  },
  {
   "cell_type": "code",
   "execution_count": 77,
   "metadata": {
    "collapsed": false
   },
   "outputs": [
    {
     "name": "stdout",
     "output_type": "stream",
     "text": [
      "% Quit after marriage: 11.76470588235294\n"
     ]
    }
   ],
   "source": [
    "quit = df[df['Quit'] == 1]\n",
    "total_quit = len(quit)\n",
    "\n",
    "print('% Quit after marriage: {0}'.format(percentage(total_quit, total)))"
   ]
  },
  {
   "cell_type": "markdown",
   "metadata": {},
   "source": [
    "Although this amount is less than I expected, if we compare this to the percentage of women who feel pressured to quit it shows a scary reality that although women are being pressured to quit, they really don't want to."
   ]
  },
  {
   "cell_type": "code",
   "execution_count": 170,
   "metadata": {
    "collapsed": false,
    "scrolled": false
   },
   "outputs": [
    {
     "data": {
      "text/plain": [
       "<Container object of 2 artists>"
      ]
     },
     "execution_count": 170,
     "metadata": {},
     "output_type": "execute_result"
    },
    {
     "data": {
      "image/png": "[encoded data removed]",
      "text/plain": [
       "<matplotlib.figure.Figure at 0x7f6d6988c080>"
      ]
     },
     "metadata": {},
     "output_type": "display_data"
    }
   ],
   "source": [
    "pressure = df[df['Pressure'] == 1]\n",
    "total_pressure = len(pressure)\n",
    "\n",
    "y = [percentage(total_pressure, total), percentage(total_quit, total)]\n",
    "x = [0, 1]\n",
    "x_ticks = ['Pressure to quit', 'Want to quit']\n",
    "y_ticks = range(0, 100, 10)\n",
    "title = 'A graph to show percentage of Japanese women who want to quit work after marriage vs women who feel a pressure to quit'\n",
    "\n",
    "draw_barchart(x, y, x_ticks, y_ticks, title)"
   ]
  }
 ],
 "metadata": {
  "kernelspec": {
   "display_name": "Python 3",
   "language": "python",
   "name": "python3"
  },
  "language_info": {
   "codemirror_mode": {
    "name": "ipython",
    "version": 3
   },
   "file_extension": ".py",
   "mimetype": "text/x-python",
   "name": "python",
   "nbconvert_exporter": "python",
   "pygments_lexer": "ipython3",
   "version": "3.5.1"
  }
 },
 "nbformat": 4,
 "nbformat_minor": 0
}
