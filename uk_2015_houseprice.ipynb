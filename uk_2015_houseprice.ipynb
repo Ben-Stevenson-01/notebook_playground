{
 "cells": [
  {
   "cell_type": "code",
   "execution_count": 1,
   "metadata": {
    "collapsed": false
   },
   "outputs": [],
   "source": [
    "import numpy as np\n",
    "import matplotlib.pyplot as plt\n",
    "import pandas as pd\n",
    "import seaborn as sns\n",
    "\n",
    "sns.set(style=\"white\", color_codes=True)\n",
    "\n",
    "%matplotlib inline"
   ]
  },
  {
   "cell_type": "markdown",
   "metadata": {},
   "source": [
    "UK house prices in 2015 visit https://www.gov.uk/guidance/about-the-price-paid-data for information on the data."
   ]
  },
  {
   "cell_type": "code",
   "execution_count": 2,
   "metadata": {
    "collapsed": false
   },
   "outputs": [
    {
     "data": {
      "text/html": [
       "<div>\n",
       "<table border=\"1\" class=\"dataframe\">\n",
       "  <thead>\n",
       "    <tr style=\"text-align: right;\">\n",
       "      <th></th>\n",
       "      <th>0</th>\n",
       "      <th>1</th>\n",
       "      <th>2</th>\n",
       "      <th>3</th>\n",
       "      <th>4</th>\n",
       "      <th>5</th>\n",
       "      <th>6</th>\n",
       "      <th>7</th>\n",
       "      <th>8</th>\n",
       "      <th>9</th>\n",
       "      <th>10</th>\n",
       "      <th>11</th>\n",
       "      <th>12</th>\n",
       "      <th>13</th>\n",
       "      <th>14</th>\n",
       "      <th>15</th>\n",
       "    </tr>\n",
       "  </thead>\n",
       "  <tbody>\n",
       "    <tr>\n",
       "      <th>0</th>\n",
       "      <td>{23B6165E-BC4F-FCF4-E050-A8C0620577FA}</td>\n",
       "      <td>410000</td>\n",
       "      <td>2015-06-30 00:00</td>\n",
       "      <td>OX11 6DX</td>\n",
       "      <td>D</td>\n",
       "      <td>Y</td>\n",
       "      <td>F</td>\n",
       "      <td>6</td>\n",
       "      <td>NaN</td>\n",
       "      <td>LARCH DRIVE</td>\n",
       "      <td>NaN</td>\n",
       "      <td>DIDCOT</td>\n",
       "      <td>SOUTH OXFORDSHIRE</td>\n",
       "      <td>OXFORDSHIRE</td>\n",
       "      <td>A</td>\n",
       "      <td>A</td>\n",
       "    </tr>\n",
       "    <tr>\n",
       "      <th>1</th>\n",
       "      <td>{23B6165E-BC51-FCF4-E050-A8C0620577FA}</td>\n",
       "      <td>610000</td>\n",
       "      <td>2015-09-30 00:00</td>\n",
       "      <td>OX2 9AZ</td>\n",
       "      <td>D</td>\n",
       "      <td>N</td>\n",
       "      <td>F</td>\n",
       "      <td>57</td>\n",
       "      <td>NaN</td>\n",
       "      <td>RALEIGH PARK ROAD</td>\n",
       "      <td>NaN</td>\n",
       "      <td>OXFORD</td>\n",
       "      <td>VALE OF WHITE HORSE</td>\n",
       "      <td>OXFORDSHIRE</td>\n",
       "      <td>A</td>\n",
       "      <td>A</td>\n",
       "    </tr>\n",
       "    <tr>\n",
       "      <th>2</th>\n",
       "      <td>{23B6165E-BC54-FCF4-E050-A8C0620577FA}</td>\n",
       "      <td>579950</td>\n",
       "      <td>2015-06-01 00:00</td>\n",
       "      <td>OX13 6FG</td>\n",
       "      <td>D</td>\n",
       "      <td>N</td>\n",
       "      <td>F</td>\n",
       "      <td>10</td>\n",
       "      <td>NaN</td>\n",
       "      <td>BRIND CLOSE</td>\n",
       "      <td>STEVENTON</td>\n",
       "      <td>ABINGDON</td>\n",
       "      <td>VALE OF WHITE HORSE</td>\n",
       "      <td>OXFORDSHIRE</td>\n",
       "      <td>A</td>\n",
       "      <td>A</td>\n",
       "    </tr>\n",
       "    <tr>\n",
       "      <th>3</th>\n",
       "      <td>{23B6165E-BC56-FCF4-E050-A8C0620577FA}</td>\n",
       "      <td>559950</td>\n",
       "      <td>2015-07-24 00:00</td>\n",
       "      <td>OX12 8HS</td>\n",
       "      <td>D</td>\n",
       "      <td>Y</td>\n",
       "      <td>F</td>\n",
       "      <td>29</td>\n",
       "      <td>NaN</td>\n",
       "      <td>CHAIN HILL</td>\n",
       "      <td>NaN</td>\n",
       "      <td>WANTAGE</td>\n",
       "      <td>VALE OF WHITE HORSE</td>\n",
       "      <td>OXFORDSHIRE</td>\n",
       "      <td>A</td>\n",
       "      <td>A</td>\n",
       "    </tr>\n",
       "    <tr>\n",
       "      <th>4</th>\n",
       "      <td>{23B6165E-BC58-FCF4-E050-A8C0620577FA}</td>\n",
       "      <td>404950</td>\n",
       "      <td>2015-08-07 00:00</td>\n",
       "      <td>OX14 4FL</td>\n",
       "      <td>D</td>\n",
       "      <td>Y</td>\n",
       "      <td>F</td>\n",
       "      <td>8</td>\n",
       "      <td>NaN</td>\n",
       "      <td>ASQUITH PARK</td>\n",
       "      <td>SUTTON COURTENAY</td>\n",
       "      <td>ABINGDON</td>\n",
       "      <td>VALE OF WHITE HORSE</td>\n",
       "      <td>OXFORDSHIRE</td>\n",
       "      <td>A</td>\n",
       "      <td>A</td>\n",
       "    </tr>\n",
       "  </tbody>\n",
       "</table>\n",
       "</div>"
      ],
      "text/plain": [
       "                                       0       1                 2         3   \\\n",
       "0  {23B6165E-BC4F-FCF4-E050-A8C0620577FA}  410000  2015-06-30 00:00  OX11 6DX   \n",
       "1  {23B6165E-BC51-FCF4-E050-A8C0620577FA}  610000  2015-09-30 00:00   OX2 9AZ   \n",
       "2  {23B6165E-BC54-FCF4-E050-A8C0620577FA}  579950  2015-06-01 00:00  OX13 6FG   \n",
       "3  {23B6165E-BC56-FCF4-E050-A8C0620577FA}  559950  2015-07-24 00:00  OX12 8HS   \n",
       "4  {23B6165E-BC58-FCF4-E050-A8C0620577FA}  404950  2015-08-07 00:00  OX14 4FL   \n",
       "\n",
       "  4  5  6   7    8                  9                 10        11  \\\n",
       "0  D  Y  F   6  NaN        LARCH DRIVE               NaN    DIDCOT   \n",
       "1  D  N  F  57  NaN  RALEIGH PARK ROAD               NaN    OXFORD   \n",
       "2  D  N  F  10  NaN        BRIND CLOSE         STEVENTON  ABINGDON   \n",
       "3  D  Y  F  29  NaN         CHAIN HILL               NaN   WANTAGE   \n",
       "4  D  Y  F   8  NaN       ASQUITH PARK  SUTTON COURTENAY  ABINGDON   \n",
       "\n",
       "                    12           13 14 15  \n",
       "0    SOUTH OXFORDSHIRE  OXFORDSHIRE  A  A  \n",
       "1  VALE OF WHITE HORSE  OXFORDSHIRE  A  A  \n",
       "2  VALE OF WHITE HORSE  OXFORDSHIRE  A  A  \n",
       "3  VALE OF WHITE HORSE  OXFORDSHIRE  A  A  \n",
       "4  VALE OF WHITE HORSE  OXFORDSHIRE  A  A  "
      ]
     },
     "execution_count": 2,
     "metadata": {},
     "output_type": "execute_result"
    }
   ],
   "source": [
    "df = pd.read_csv(\"data/pp-2015.csv\", header=None)\n",
    "df.head()"
   ]
  },
  {
   "cell_type": "markdown",
   "metadata": {},
   "source": [
    "### There are no labels provided with the data, so let's add some."
   ]
  },
  {
   "cell_type": "code",
   "execution_count": 3,
   "metadata": {
    "collapsed": false
   },
   "outputs": [
    {
     "data": {
      "text/html": [
       "<div>\n",
       "<table border=\"1\" class=\"dataframe\">\n",
       "  <thead>\n",
       "    <tr style=\"text-align: right;\">\n",
       "      <th></th>\n",
       "      <th>id</th>\n",
       "      <th>price</th>\n",
       "      <th>transfer_date</th>\n",
       "      <th>postcode</th>\n",
       "      <th>type</th>\n",
       "      <th>new</th>\n",
       "      <th>duration</th>\n",
       "      <th>paon</th>\n",
       "      <th>saon</th>\n",
       "      <th>street</th>\n",
       "      <th>locality</th>\n",
       "      <th>city</th>\n",
       "      <th>district</th>\n",
       "      <th>county</th>\n",
       "      <th>ppd_cat</th>\n",
       "      <th>record_status</th>\n",
       "    </tr>\n",
       "  </thead>\n",
       "  <tbody>\n",
       "    <tr>\n",
       "      <th>0</th>\n",
       "      <td>{23B6165E-BC4F-FCF4-E050-A8C0620577FA}</td>\n",
       "      <td>410000</td>\n",
       "      <td>2015-06-30 00:00</td>\n",
       "      <td>OX11 6DX</td>\n",
       "      <td>D</td>\n",
       "      <td>Y</td>\n",
       "      <td>F</td>\n",
       "      <td>6</td>\n",
       "      <td>NaN</td>\n",
       "      <td>LARCH DRIVE</td>\n",
       "      <td>NaN</td>\n",
       "      <td>DIDCOT</td>\n",
       "      <td>SOUTH OXFORDSHIRE</td>\n",
       "      <td>OXFORDSHIRE</td>\n",
       "      <td>A</td>\n",
       "      <td>A</td>\n",
       "    </tr>\n",
       "    <tr>\n",
       "      <th>1</th>\n",
       "      <td>{23B6165E-BC51-FCF4-E050-A8C0620577FA}</td>\n",
       "      <td>610000</td>\n",
       "      <td>2015-09-30 00:00</td>\n",
       "      <td>OX2 9AZ</td>\n",
       "      <td>D</td>\n",
       "      <td>N</td>\n",
       "      <td>F</td>\n",
       "      <td>57</td>\n",
       "      <td>NaN</td>\n",
       "      <td>RALEIGH PARK ROAD</td>\n",
       "      <td>NaN</td>\n",
       "      <td>OXFORD</td>\n",
       "      <td>VALE OF WHITE HORSE</td>\n",
       "      <td>OXFORDSHIRE</td>\n",
       "      <td>A</td>\n",
       "      <td>A</td>\n",
       "    </tr>\n",
       "    <tr>\n",
       "      <th>2</th>\n",
       "      <td>{23B6165E-BC54-FCF4-E050-A8C0620577FA}</td>\n",
       "      <td>579950</td>\n",
       "      <td>2015-06-01 00:00</td>\n",
       "      <td>OX13 6FG</td>\n",
       "      <td>D</td>\n",
       "      <td>N</td>\n",
       "      <td>F</td>\n",
       "      <td>10</td>\n",
       "      <td>NaN</td>\n",
       "      <td>BRIND CLOSE</td>\n",
       "      <td>STEVENTON</td>\n",
       "      <td>ABINGDON</td>\n",
       "      <td>VALE OF WHITE HORSE</td>\n",
       "      <td>OXFORDSHIRE</td>\n",
       "      <td>A</td>\n",
       "      <td>A</td>\n",
       "    </tr>\n",
       "    <tr>\n",
       "      <th>3</th>\n",
       "      <td>{23B6165E-BC56-FCF4-E050-A8C0620577FA}</td>\n",
       "      <td>559950</td>\n",
       "      <td>2015-07-24 00:00</td>\n",
       "      <td>OX12 8HS</td>\n",
       "      <td>D</td>\n",
       "      <td>Y</td>\n",
       "      <td>F</td>\n",
       "      <td>29</td>\n",
       "      <td>NaN</td>\n",
       "      <td>CHAIN HILL</td>\n",
       "      <td>NaN</td>\n",
       "      <td>WANTAGE</td>\n",
       "      <td>VALE OF WHITE HORSE</td>\n",
       "      <td>OXFORDSHIRE</td>\n",
       "      <td>A</td>\n",
       "      <td>A</td>\n",
       "    </tr>\n",
       "    <tr>\n",
       "      <th>4</th>\n",
       "      <td>{23B6165E-BC58-FCF4-E050-A8C0620577FA}</td>\n",
       "      <td>404950</td>\n",
       "      <td>2015-08-07 00:00</td>\n",
       "      <td>OX14 4FL</td>\n",
       "      <td>D</td>\n",
       "      <td>Y</td>\n",
       "      <td>F</td>\n",
       "      <td>8</td>\n",
       "      <td>NaN</td>\n",
       "      <td>ASQUITH PARK</td>\n",
       "      <td>SUTTON COURTENAY</td>\n",
       "      <td>ABINGDON</td>\n",
       "      <td>VALE OF WHITE HORSE</td>\n",
       "      <td>OXFORDSHIRE</td>\n",
       "      <td>A</td>\n",
       "      <td>A</td>\n",
       "    </tr>\n",
       "  </tbody>\n",
       "</table>\n",
       "</div>"
      ],
      "text/plain": [
       "                                       id   price     transfer_date  postcode  \\\n",
       "0  {23B6165E-BC4F-FCF4-E050-A8C0620577FA}  410000  2015-06-30 00:00  OX11 6DX   \n",
       "1  {23B6165E-BC51-FCF4-E050-A8C0620577FA}  610000  2015-09-30 00:00   OX2 9AZ   \n",
       "2  {23B6165E-BC54-FCF4-E050-A8C0620577FA}  579950  2015-06-01 00:00  OX13 6FG   \n",
       "3  {23B6165E-BC56-FCF4-E050-A8C0620577FA}  559950  2015-07-24 00:00  OX12 8HS   \n",
       "4  {23B6165E-BC58-FCF4-E050-A8C0620577FA}  404950  2015-08-07 00:00  OX14 4FL   \n",
       "\n",
       "  type new duration paon saon             street          locality      city  \\\n",
       "0    D   Y        F    6  NaN        LARCH DRIVE               NaN    DIDCOT   \n",
       "1    D   N        F   57  NaN  RALEIGH PARK ROAD               NaN    OXFORD   \n",
       "2    D   N        F   10  NaN        BRIND CLOSE         STEVENTON  ABINGDON   \n",
       "3    D   Y        F   29  NaN         CHAIN HILL               NaN   WANTAGE   \n",
       "4    D   Y        F    8  NaN       ASQUITH PARK  SUTTON COURTENAY  ABINGDON   \n",
       "\n",
       "              district       county ppd_cat record_status  \n",
       "0    SOUTH OXFORDSHIRE  OXFORDSHIRE       A             A  \n",
       "1  VALE OF WHITE HORSE  OXFORDSHIRE       A             A  \n",
       "2  VALE OF WHITE HORSE  OXFORDSHIRE       A             A  \n",
       "3  VALE OF WHITE HORSE  OXFORDSHIRE       A             A  \n",
       "4  VALE OF WHITE HORSE  OXFORDSHIRE       A             A  "
      ]
     },
     "execution_count": 3,
     "metadata": {},
     "output_type": "execute_result"
    }
   ],
   "source": [
    "df.columns = ['id', 'price', 'transfer_date', 'postcode', 'type', 'new', 'duration',\n",
    "            'paon', 'saon', 'street', 'locality', 'city', 'district', 'county', 'ppd_cat', 'record_status']\n",
    "df.head()"
   ]
  },
  {
   "cell_type": "markdown",
   "metadata": {},
   "source": [
    "### The field new is binary and would be more useful as 1's and 0's."
   ]
  },
  {
   "cell_type": "code",
   "execution_count": 4,
   "metadata": {
    "collapsed": false
   },
   "outputs": [
    {
     "data": {
      "text/html": [
       "<div>\n",
       "<table border=\"1\" class=\"dataframe\">\n",
       "  <thead>\n",
       "    <tr style=\"text-align: right;\">\n",
       "      <th></th>\n",
       "      <th>id</th>\n",
       "      <th>price</th>\n",
       "      <th>transfer_date</th>\n",
       "      <th>postcode</th>\n",
       "      <th>type</th>\n",
       "      <th>new</th>\n",
       "      <th>duration</th>\n",
       "      <th>paon</th>\n",
       "      <th>saon</th>\n",
       "      <th>street</th>\n",
       "      <th>locality</th>\n",
       "      <th>city</th>\n",
       "      <th>district</th>\n",
       "      <th>county</th>\n",
       "      <th>ppd_cat</th>\n",
       "      <th>record_status</th>\n",
       "    </tr>\n",
       "  </thead>\n",
       "  <tbody>\n",
       "    <tr>\n",
       "      <th>0</th>\n",
       "      <td>{23B6165E-BC4F-FCF4-E050-A8C0620577FA}</td>\n",
       "      <td>410000</td>\n",
       "      <td>2015-06-30 00:00</td>\n",
       "      <td>OX11 6DX</td>\n",
       "      <td>D</td>\n",
       "      <td>1</td>\n",
       "      <td>F</td>\n",
       "      <td>6</td>\n",
       "      <td>NaN</td>\n",
       "      <td>LARCH DRIVE</td>\n",
       "      <td>NaN</td>\n",
       "      <td>DIDCOT</td>\n",
       "      <td>SOUTH OXFORDSHIRE</td>\n",
       "      <td>OXFORDSHIRE</td>\n",
       "      <td>A</td>\n",
       "      <td>A</td>\n",
       "    </tr>\n",
       "    <tr>\n",
       "      <th>1</th>\n",
       "      <td>{23B6165E-BC51-FCF4-E050-A8C0620577FA}</td>\n",
       "      <td>610000</td>\n",
       "      <td>2015-09-30 00:00</td>\n",
       "      <td>OX2 9AZ</td>\n",
       "      <td>D</td>\n",
       "      <td>0</td>\n",
       "      <td>F</td>\n",
       "      <td>57</td>\n",
       "      <td>NaN</td>\n",
       "      <td>RALEIGH PARK ROAD</td>\n",
       "      <td>NaN</td>\n",
       "      <td>OXFORD</td>\n",
       "      <td>VALE OF WHITE HORSE</td>\n",
       "      <td>OXFORDSHIRE</td>\n",
       "      <td>A</td>\n",
       "      <td>A</td>\n",
       "    </tr>\n",
       "    <tr>\n",
       "      <th>2</th>\n",
       "      <td>{23B6165E-BC54-FCF4-E050-A8C0620577FA}</td>\n",
       "      <td>579950</td>\n",
       "      <td>2015-06-01 00:00</td>\n",
       "      <td>OX13 6FG</td>\n",
       "      <td>D</td>\n",
       "      <td>0</td>\n",
       "      <td>F</td>\n",
       "      <td>10</td>\n",
       "      <td>NaN</td>\n",
       "      <td>BRIND CLOSE</td>\n",
       "      <td>STEVENTON</td>\n",
       "      <td>ABINGDON</td>\n",
       "      <td>VALE OF WHITE HORSE</td>\n",
       "      <td>OXFORDSHIRE</td>\n",
       "      <td>A</td>\n",
       "      <td>A</td>\n",
       "    </tr>\n",
       "    <tr>\n",
       "      <th>3</th>\n",
       "      <td>{23B6165E-BC56-FCF4-E050-A8C0620577FA}</td>\n",
       "      <td>559950</td>\n",
       "      <td>2015-07-24 00:00</td>\n",
       "      <td>OX12 8HS</td>\n",
       "      <td>D</td>\n",
       "      <td>1</td>\n",
       "      <td>F</td>\n",
       "      <td>29</td>\n",
       "      <td>NaN</td>\n",
       "      <td>CHAIN HILL</td>\n",
       "      <td>NaN</td>\n",
       "      <td>WANTAGE</td>\n",
       "      <td>VALE OF WHITE HORSE</td>\n",
       "      <td>OXFORDSHIRE</td>\n",
       "      <td>A</td>\n",
       "      <td>A</td>\n",
       "    </tr>\n",
       "    <tr>\n",
       "      <th>4</th>\n",
       "      <td>{23B6165E-BC58-FCF4-E050-A8C0620577FA}</td>\n",
       "      <td>404950</td>\n",
       "      <td>2015-08-07 00:00</td>\n",
       "      <td>OX14 4FL</td>\n",
       "      <td>D</td>\n",
       "      <td>1</td>\n",
       "      <td>F</td>\n",
       "      <td>8</td>\n",
       "      <td>NaN</td>\n",
       "      <td>ASQUITH PARK</td>\n",
       "      <td>SUTTON COURTENAY</td>\n",
       "      <td>ABINGDON</td>\n",
       "      <td>VALE OF WHITE HORSE</td>\n",
       "      <td>OXFORDSHIRE</td>\n",
       "      <td>A</td>\n",
       "      <td>A</td>\n",
       "    </tr>\n",
       "  </tbody>\n",
       "</table>\n",
       "</div>"
      ],
      "text/plain": [
       "                                       id   price     transfer_date  postcode  \\\n",
       "0  {23B6165E-BC4F-FCF4-E050-A8C0620577FA}  410000  2015-06-30 00:00  OX11 6DX   \n",
       "1  {23B6165E-BC51-FCF4-E050-A8C0620577FA}  610000  2015-09-30 00:00   OX2 9AZ   \n",
       "2  {23B6165E-BC54-FCF4-E050-A8C0620577FA}  579950  2015-06-01 00:00  OX13 6FG   \n",
       "3  {23B6165E-BC56-FCF4-E050-A8C0620577FA}  559950  2015-07-24 00:00  OX12 8HS   \n",
       "4  {23B6165E-BC58-FCF4-E050-A8C0620577FA}  404950  2015-08-07 00:00  OX14 4FL   \n",
       "\n",
       "  type  new duration paon saon             street          locality      city  \\\n",
       "0    D    1        F    6  NaN        LARCH DRIVE               NaN    DIDCOT   \n",
       "1    D    0        F   57  NaN  RALEIGH PARK ROAD               NaN    OXFORD   \n",
       "2    D    0        F   10  NaN        BRIND CLOSE         STEVENTON  ABINGDON   \n",
       "3    D    1        F   29  NaN         CHAIN HILL               NaN   WANTAGE   \n",
       "4    D    1        F    8  NaN       ASQUITH PARK  SUTTON COURTENAY  ABINGDON   \n",
       "\n",
       "              district       county ppd_cat record_status  \n",
       "0    SOUTH OXFORDSHIRE  OXFORDSHIRE       A             A  \n",
       "1  VALE OF WHITE HORSE  OXFORDSHIRE       A             A  \n",
       "2  VALE OF WHITE HORSE  OXFORDSHIRE       A             A  \n",
       "3  VALE OF WHITE HORSE  OXFORDSHIRE       A             A  \n",
       "4  VALE OF WHITE HORSE  OXFORDSHIRE       A             A  "
      ]
     },
     "execution_count": 4,
     "metadata": {},
     "output_type": "execute_result"
    }
   ],
   "source": [
    "def convert_binary(x, val1, val2):\n",
    "    \"\"\"Convert a binary field to 1's and 0's\"\"\"\n",
    "    # True value\n",
    "    if x == 'Y':\n",
    "        return 1\n",
    "    #False value\n",
    "    elif x == 'N':\n",
    "        return 0\n",
    "    else:\n",
    "        return np.nan\n",
    "    \n",
    "df.new = df.new.apply(convert_binary, args=('Y', 'N'))\n",
    "df.head()"
   ]
  },
  {
   "cell_type": "markdown",
   "metadata": {},
   "source": [
    "### I can't see myself ever using that id column so let's get rid of it for now. We'll save it incase we need it again."
   ]
  },
  {
   "cell_type": "code",
   "execution_count": 5,
   "metadata": {
    "collapsed": false
   },
   "outputs": [
    {
     "data": {
      "text/html": [
       "<div>\n",
       "<table border=\"1\" class=\"dataframe\">\n",
       "  <thead>\n",
       "    <tr style=\"text-align: right;\">\n",
       "      <th></th>\n",
       "      <th>price</th>\n",
       "      <th>transfer_date</th>\n",
       "      <th>postcode</th>\n",
       "      <th>type</th>\n",
       "      <th>new</th>\n",
       "      <th>duration</th>\n",
       "      <th>paon</th>\n",
       "      <th>saon</th>\n",
       "      <th>street</th>\n",
       "      <th>locality</th>\n",
       "      <th>city</th>\n",
       "      <th>district</th>\n",
       "      <th>county</th>\n",
       "      <th>ppd_cat</th>\n",
       "      <th>record_status</th>\n",
       "    </tr>\n",
       "  </thead>\n",
       "  <tbody>\n",
       "    <tr>\n",
       "      <th>0</th>\n",
       "      <td>410000</td>\n",
       "      <td>2015-06-30 00:00</td>\n",
       "      <td>OX11 6DX</td>\n",
       "      <td>D</td>\n",
       "      <td>1</td>\n",
       "      <td>F</td>\n",
       "      <td>6</td>\n",
       "      <td>NaN</td>\n",
       "      <td>LARCH DRIVE</td>\n",
       "      <td>NaN</td>\n",
       "      <td>DIDCOT</td>\n",
       "      <td>SOUTH OXFORDSHIRE</td>\n",
       "      <td>OXFORDSHIRE</td>\n",
       "      <td>A</td>\n",
       "      <td>A</td>\n",
       "    </tr>\n",
       "    <tr>\n",
       "      <th>1</th>\n",
       "      <td>610000</td>\n",
       "      <td>2015-09-30 00:00</td>\n",
       "      <td>OX2 9AZ</td>\n",
       "      <td>D</td>\n",
       "      <td>0</td>\n",
       "      <td>F</td>\n",
       "      <td>57</td>\n",
       "      <td>NaN</td>\n",
       "      <td>RALEIGH PARK ROAD</td>\n",
       "      <td>NaN</td>\n",
       "      <td>OXFORD</td>\n",
       "      <td>VALE OF WHITE HORSE</td>\n",
       "      <td>OXFORDSHIRE</td>\n",
       "      <td>A</td>\n",
       "      <td>A</td>\n",
       "    </tr>\n",
       "    <tr>\n",
       "      <th>2</th>\n",
       "      <td>579950</td>\n",
       "      <td>2015-06-01 00:00</td>\n",
       "      <td>OX13 6FG</td>\n",
       "      <td>D</td>\n",
       "      <td>0</td>\n",
       "      <td>F</td>\n",
       "      <td>10</td>\n",
       "      <td>NaN</td>\n",
       "      <td>BRIND CLOSE</td>\n",
       "      <td>STEVENTON</td>\n",
       "      <td>ABINGDON</td>\n",
       "      <td>VALE OF WHITE HORSE</td>\n",
       "      <td>OXFORDSHIRE</td>\n",
       "      <td>A</td>\n",
       "      <td>A</td>\n",
       "    </tr>\n",
       "    <tr>\n",
       "      <th>3</th>\n",
       "      <td>559950</td>\n",
       "      <td>2015-07-24 00:00</td>\n",
       "      <td>OX12 8HS</td>\n",
       "      <td>D</td>\n",
       "      <td>1</td>\n",
       "      <td>F</td>\n",
       "      <td>29</td>\n",
       "      <td>NaN</td>\n",
       "      <td>CHAIN HILL</td>\n",
       "      <td>NaN</td>\n",
       "      <td>WANTAGE</td>\n",
       "      <td>VALE OF WHITE HORSE</td>\n",
       "      <td>OXFORDSHIRE</td>\n",
       "      <td>A</td>\n",
       "      <td>A</td>\n",
       "    </tr>\n",
       "    <tr>\n",
       "      <th>4</th>\n",
       "      <td>404950</td>\n",
       "      <td>2015-08-07 00:00</td>\n",
       "      <td>OX14 4FL</td>\n",
       "      <td>D</td>\n",
       "      <td>1</td>\n",
       "      <td>F</td>\n",
       "      <td>8</td>\n",
       "      <td>NaN</td>\n",
       "      <td>ASQUITH PARK</td>\n",
       "      <td>SUTTON COURTENAY</td>\n",
       "      <td>ABINGDON</td>\n",
       "      <td>VALE OF WHITE HORSE</td>\n",
       "      <td>OXFORDSHIRE</td>\n",
       "      <td>A</td>\n",
       "      <td>A</td>\n",
       "    </tr>\n",
       "  </tbody>\n",
       "</table>\n",
       "</div>"
      ],
      "text/plain": [
       "    price     transfer_date  postcode type  new duration paon saon  \\\n",
       "0  410000  2015-06-30 00:00  OX11 6DX    D    1        F    6  NaN   \n",
       "1  610000  2015-09-30 00:00   OX2 9AZ    D    0        F   57  NaN   \n",
       "2  579950  2015-06-01 00:00  OX13 6FG    D    0        F   10  NaN   \n",
       "3  559950  2015-07-24 00:00  OX12 8HS    D    1        F   29  NaN   \n",
       "4  404950  2015-08-07 00:00  OX14 4FL    D    1        F    8  NaN   \n",
       "\n",
       "              street          locality      city             district  \\\n",
       "0        LARCH DRIVE               NaN    DIDCOT    SOUTH OXFORDSHIRE   \n",
       "1  RALEIGH PARK ROAD               NaN    OXFORD  VALE OF WHITE HORSE   \n",
       "2        BRIND CLOSE         STEVENTON  ABINGDON  VALE OF WHITE HORSE   \n",
       "3         CHAIN HILL               NaN   WANTAGE  VALE OF WHITE HORSE   \n",
       "4       ASQUITH PARK  SUTTON COURTENAY  ABINGDON  VALE OF WHITE HORSE   \n",
       "\n",
       "        county ppd_cat record_status  \n",
       "0  OXFORDSHIRE       A             A  \n",
       "1  OXFORDSHIRE       A             A  \n",
       "2  OXFORDSHIRE       A             A  \n",
       "3  OXFORDSHIRE       A             A  \n",
       "4  OXFORDSHIRE       A             A  "
      ]
     },
     "execution_count": 5,
     "metadata": {},
     "output_type": "execute_result"
    }
   ],
   "source": [
    "id_col = df.pop('id')\n",
    "df.head()"
   ]
  },
  {
   "cell_type": "markdown",
   "metadata": {},
   "source": [
    "## Basic exploratory analysis"
   ]
  },
  {
   "cell_type": "markdown",
   "metadata": {},
   "source": [
    "### How many rows in the dataset?"
   ]
  },
  {
   "cell_type": "code",
   "execution_count": 6,
   "metadata": {
    "collapsed": false
   },
   "outputs": [
    {
     "data": {
      "text/plain": [
       "981878"
      ]
     },
     "execution_count": 6,
     "metadata": {},
     "output_type": "execute_result"
    }
   ],
   "source": [
    "len(df)"
   ]
  },
  {
   "cell_type": "markdown",
   "metadata": {},
   "source": [
    "### What datatypes are we dealing with?"
   ]
  },
  {
   "cell_type": "code",
   "execution_count": 7,
   "metadata": {
    "collapsed": false
   },
   "outputs": [
    {
     "name": "stdout",
     "output_type": "stream",
     "text": [
      "price : int64\n",
      "transfer_date : object\n",
      "postcode : object\n",
      "type : object\n",
      "new : int64\n",
      "duration : object\n",
      "paon : object\n",
      "saon : object\n",
      "street : object\n",
      "locality : object\n",
      "city : object\n",
      "district : object\n",
      "county : object\n",
      "ppd_cat : object\n",
      "record_status : object\n"
     ]
    }
   ],
   "source": [
    "for col in df.columns:\n",
    "    print('{0} : {1}'.format(col, df[col].dtype))"
   ]
  },
  {
   "cell_type": "markdown",
   "metadata": {},
   "source": [
    "### What are the basic statistics on the dataset?"
   ]
  },
  {
   "cell_type": "code",
   "execution_count": 8,
   "metadata": {
    "collapsed": false
   },
   "outputs": [
    {
     "data": {
      "text/html": [
       "<div>\n",
       "<table border=\"1\" class=\"dataframe\">\n",
       "  <thead>\n",
       "    <tr style=\"text-align: right;\">\n",
       "      <th></th>\n",
       "      <th>price</th>\n",
       "      <th>new</th>\n",
       "    </tr>\n",
       "  </thead>\n",
       "  <tbody>\n",
       "    <tr>\n",
       "      <th>count</th>\n",
       "      <td>9.818780e+05</td>\n",
       "      <td>981878.000000</td>\n",
       "    </tr>\n",
       "    <tr>\n",
       "      <th>mean</th>\n",
       "      <td>2.949922e+05</td>\n",
       "      <td>0.098263</td>\n",
       "    </tr>\n",
       "    <tr>\n",
       "      <th>std</th>\n",
       "      <td>8.658615e+05</td>\n",
       "      <td>0.297670</td>\n",
       "    </tr>\n",
       "    <tr>\n",
       "      <th>min</th>\n",
       "      <td>1.000000e+02</td>\n",
       "      <td>0.000000</td>\n",
       "    </tr>\n",
       "    <tr>\n",
       "      <th>25%</th>\n",
       "      <td>1.350000e+05</td>\n",
       "      <td>0.000000</td>\n",
       "    </tr>\n",
       "    <tr>\n",
       "      <th>50%</th>\n",
       "      <td>2.039950e+05</td>\n",
       "      <td>0.000000</td>\n",
       "    </tr>\n",
       "    <tr>\n",
       "      <th>75%</th>\n",
       "      <td>3.180000e+05</td>\n",
       "      <td>0.000000</td>\n",
       "    </tr>\n",
       "    <tr>\n",
       "      <th>max</th>\n",
       "      <td>9.825000e+07</td>\n",
       "      <td>1.000000</td>\n",
       "    </tr>\n",
       "  </tbody>\n",
       "</table>\n",
       "</div>"
      ],
      "text/plain": [
       "              price            new\n",
       "count  9.818780e+05  981878.000000\n",
       "mean   2.949922e+05       0.098263\n",
       "std    8.658615e+05       0.297670\n",
       "min    1.000000e+02       0.000000\n",
       "25%    1.350000e+05       0.000000\n",
       "50%    2.039950e+05       0.000000\n",
       "75%    3.180000e+05       0.000000\n",
       "max    9.825000e+07       1.000000"
      ]
     },
     "execution_count": 8,
     "metadata": {},
     "output_type": "execute_result"
    }
   ],
   "source": [
    "df.describe()"
   ]
  },
  {
   "cell_type": "markdown",
   "metadata": {},
   "source": [
    "### How many and what percentage of property sales were newly built?\n",
    "\n",
    "Side note: It would be interesting to look at all the data back from 1995 for new/old houses and their prices."
   ]
  },
  {
   "cell_type": "code",
   "execution_count": 9,
   "metadata": {
    "collapsed": false
   },
   "outputs": [
    {
     "name": "stdout",
     "output_type": "stream",
     "text": [
      "Total new: 96482  | Percentage new: 9.826271695668911\n"
     ]
    }
   ],
   "source": [
    "total_new = df.new.sum()\n",
    "percentage_new = total_new / len(df) * 100\n",
    "print('Total new: {0}  | Percentage new: {1}'.format(total_new, percentage_new))"
   ]
  },
  {
   "cell_type": "markdown",
   "metadata": {},
   "source": [
    "### How are the prices distributed?"
   ]
  },
  {
   "cell_type": "code",
   "execution_count": 10,
   "metadata": {
    "collapsed": false
   },
   "outputs": [
    {
     "data": {
      "image/png": "[encoded data removed]",
      "text/plain": [
       "<matplotlib.figure.Figure at 0x7f14e83cce10>"
      ]
     },
     "metadata": {},
     "output_type": "display_data"
    }
   ],
   "source": [
    "no_outliers = df[np.abs(df.price-df.price.mean())<=(3*df.price.std())]\n",
    "\n",
    "fig = plt.figure(figsize=(20, 10))\n",
    "ax = plt.subplot(111)\n",
    "ax.spines[\"top\"].set_visible(False) \n",
    "ax.spines[\"right\"].set_visible(False)\n",
    "ax.spines['left'].set_color('#1a1a1a')\n",
    "ax.spines['bottom'].set_color('#1a1a1a')\n",
    "\n",
    "ax.get_xaxis().tick_bottom()  \n",
    "ax.get_yaxis().tick_left()\n",
    "\n",
    "plt.xticks(fontsize=14, color='#1a1a1a')  \n",
    "plt.yticks(fontsize=14, color='#1a1a1a')\n",
    "\n",
    "plt.title('UK property price distribution 2015 (outliers removed)', fontsize=30)\n",
    "plt.xlabel('Price (£ - GBP)', fontsize=20)\n",
    "plt.ylabel('Frequency', fontsize=20)\n",
    "\n",
    "plt.hist(no_outliers.price, bins=100);"
   ]
  },
  {
   "cell_type": "markdown",
   "metadata": {},
   "source": [
    "### How do the prices of old and new properties compare?"
   ]
  },
  {
   "cell_type": "code",
   "execution_count": 49,
   "metadata": {
    "collapsed": false
   },
   "outputs": [
    {
     "data": {
      "image/png": "[encoded data removed]",
      "text/plain": [
       "<matplotlib.figure.Figure at 0x7f149f5d1a90>"
      ]
     },
     "metadata": {},
     "output_type": "display_data"
    }
   ],
   "source": [
    "fig, ax = plt.subplots(figsize=(20, 10))\n",
    "\n",
    "ax.spines[\"top\"].set_visible(False) \n",
    "ax.spines[\"right\"].set_visible(False)\n",
    "\n",
    "ax.spines['left'].set_color('#1a1a1a')\n",
    "ax.spines['bottom'].set_color('#1a1a1a')\n",
    "\n",
    "plt.title('Old vs new properties', fontsize=30)\n",
    "plt.ylabel('Property ages', fontsize=22)\n",
    "plt.xlabel('Price', fontsize=22)\n",
    "\n",
    "boxplot = sns.boxplot(x=df.price, y=df.new, orient='h')\n",
    "boxplot.set(yticklabels=['old', 'new']);"
   ]
  },
  {
   "cell_type": "markdown",
   "metadata": {},
   "source": [
    "### Where are new properties being built?\n",
    "\n",
    "First we need to get the latitude and longitude of each property. We will use the postcode to find the approximate longitude and lattitude of the property which is accurate enough for our purposes.\n",
    "\n",
    "Postcode longitide and lattitude obtained from https://www.doogal.co.uk/files/postcodes.zip"
   ]
  },
  {
   "cell_type": "code",
   "execution_count": 12,
   "metadata": {
    "collapsed": false
   },
   "outputs": [
    {
     "data": {
      "text/html": [
       "<div>\n",
       "<table border=\"1\" class=\"dataframe\">\n",
       "  <thead>\n",
       "    <tr style=\"text-align: right;\">\n",
       "      <th></th>\n",
       "      <th>postcode</th>\n",
       "      <th>lat</th>\n",
       "      <th>lon</th>\n",
       "    </tr>\n",
       "  </thead>\n",
       "  <tbody>\n",
       "    <tr>\n",
       "      <th>0</th>\n",
       "      <td>AB1 0AA</td>\n",
       "      <td>57.101478</td>\n",
       "      <td>-2.242852</td>\n",
       "    </tr>\n",
       "    <tr>\n",
       "      <th>1</th>\n",
       "      <td>AB1 0AB</td>\n",
       "      <td>57.102558</td>\n",
       "      <td>-2.246309</td>\n",
       "    </tr>\n",
       "    <tr>\n",
       "      <th>2</th>\n",
       "      <td>AB1 0AD</td>\n",
       "      <td>57.100560</td>\n",
       "      <td>-2.248342</td>\n",
       "    </tr>\n",
       "    <tr>\n",
       "      <th>3</th>\n",
       "      <td>AB1 0AE</td>\n",
       "      <td>57.084447</td>\n",
       "      <td>-2.255708</td>\n",
       "    </tr>\n",
       "    <tr>\n",
       "      <th>4</th>\n",
       "      <td>AB1 0AF</td>\n",
       "      <td>57.096659</td>\n",
       "      <td>-2.258103</td>\n",
       "    </tr>\n",
       "  </tbody>\n",
       "</table>\n",
       "</div>"
      ],
      "text/plain": [
       "  postcode        lat       lon\n",
       "0  AB1 0AA  57.101478 -2.242852\n",
       "1  AB1 0AB  57.102558 -2.246309\n",
       "2  AB1 0AD  57.100560 -2.248342\n",
       "3  AB1 0AE  57.084447 -2.255708\n",
       "4  AB1 0AF  57.096659 -2.258103"
      ]
     },
     "execution_count": 12,
     "metadata": {},
     "output_type": "execute_result"
    }
   ],
   "source": [
    "postcodes = pd.read_csv('data/postcodes.csv', usecols=['Postcode', 'Latitude', 'Longitude'])\n",
    "postcodes.columns = ['postcode', 'lat', 'lon']\n",
    "postcodes.head()"
   ]
  },
  {
   "cell_type": "code",
   "execution_count": 13,
   "metadata": {
    "collapsed": false
   },
   "outputs": [
    {
     "data": {
      "text/html": [
       "<div>\n",
       "<table border=\"1\" class=\"dataframe\">\n",
       "  <thead>\n",
       "    <tr style=\"text-align: right;\">\n",
       "      <th></th>\n",
       "      <th>price</th>\n",
       "      <th>transfer_date</th>\n",
       "      <th>postcode</th>\n",
       "      <th>type</th>\n",
       "      <th>new</th>\n",
       "      <th>duration</th>\n",
       "      <th>paon</th>\n",
       "      <th>saon</th>\n",
       "      <th>street</th>\n",
       "      <th>locality</th>\n",
       "      <th>city</th>\n",
       "      <th>district</th>\n",
       "      <th>county</th>\n",
       "      <th>ppd_cat</th>\n",
       "      <th>record_status</th>\n",
       "      <th>lat</th>\n",
       "      <th>lon</th>\n",
       "    </tr>\n",
       "  </thead>\n",
       "  <tbody>\n",
       "    <tr>\n",
       "      <th>0</th>\n",
       "      <td>410000</td>\n",
       "      <td>2015-06-30 00:00</td>\n",
       "      <td>OX11 6DX</td>\n",
       "      <td>D</td>\n",
       "      <td>1</td>\n",
       "      <td>F</td>\n",
       "      <td>6</td>\n",
       "      <td>NaN</td>\n",
       "      <td>LARCH DRIVE</td>\n",
       "      <td>NaN</td>\n",
       "      <td>DIDCOT</td>\n",
       "      <td>SOUTH OXFORDSHIRE</td>\n",
       "      <td>OXFORDSHIRE</td>\n",
       "      <td>A</td>\n",
       "      <td>A</td>\n",
       "      <td>51.597698</td>\n",
       "      <td>-1.259341</td>\n",
       "    </tr>\n",
       "    <tr>\n",
       "      <th>1</th>\n",
       "      <td>320000</td>\n",
       "      <td>2015-08-28 00:00</td>\n",
       "      <td>OX11 6DX</td>\n",
       "      <td>D</td>\n",
       "      <td>1</td>\n",
       "      <td>F</td>\n",
       "      <td>31</td>\n",
       "      <td>NaN</td>\n",
       "      <td>LARCH DRIVE</td>\n",
       "      <td>NaN</td>\n",
       "      <td>DIDCOT</td>\n",
       "      <td>SOUTH OXFORDSHIRE</td>\n",
       "      <td>OXFORDSHIRE</td>\n",
       "      <td>A</td>\n",
       "      <td>A</td>\n",
       "      <td>51.597698</td>\n",
       "      <td>-1.259341</td>\n",
       "    </tr>\n",
       "    <tr>\n",
       "      <th>2</th>\n",
       "      <td>327000</td>\n",
       "      <td>2015-07-31 00:00</td>\n",
       "      <td>OX11 6DX</td>\n",
       "      <td>T</td>\n",
       "      <td>1</td>\n",
       "      <td>F</td>\n",
       "      <td>30</td>\n",
       "      <td>NaN</td>\n",
       "      <td>LARCH DRIVE</td>\n",
       "      <td>NaN</td>\n",
       "      <td>DIDCOT</td>\n",
       "      <td>SOUTH OXFORDSHIRE</td>\n",
       "      <td>OXFORDSHIRE</td>\n",
       "      <td>A</td>\n",
       "      <td>A</td>\n",
       "      <td>51.597698</td>\n",
       "      <td>-1.259341</td>\n",
       "    </tr>\n",
       "    <tr>\n",
       "      <th>3</th>\n",
       "      <td>240000</td>\n",
       "      <td>2015-05-29 00:00</td>\n",
       "      <td>OX11 6DX</td>\n",
       "      <td>D</td>\n",
       "      <td>1</td>\n",
       "      <td>F</td>\n",
       "      <td>21</td>\n",
       "      <td>NaN</td>\n",
       "      <td>LARCH DRIVE</td>\n",
       "      <td>NaN</td>\n",
       "      <td>DIDCOT</td>\n",
       "      <td>SOUTH OXFORDSHIRE</td>\n",
       "      <td>OXFORDSHIRE</td>\n",
       "      <td>A</td>\n",
       "      <td>A</td>\n",
       "      <td>51.597698</td>\n",
       "      <td>-1.259341</td>\n",
       "    </tr>\n",
       "    <tr>\n",
       "      <th>4</th>\n",
       "      <td>315000</td>\n",
       "      <td>2015-05-29 00:00</td>\n",
       "      <td>OX11 6DX</td>\n",
       "      <td>D</td>\n",
       "      <td>1</td>\n",
       "      <td>F</td>\n",
       "      <td>17</td>\n",
       "      <td>NaN</td>\n",
       "      <td>LARCH DRIVE</td>\n",
       "      <td>NaN</td>\n",
       "      <td>DIDCOT</td>\n",
       "      <td>SOUTH OXFORDSHIRE</td>\n",
       "      <td>OXFORDSHIRE</td>\n",
       "      <td>A</td>\n",
       "      <td>A</td>\n",
       "      <td>51.597698</td>\n",
       "      <td>-1.259341</td>\n",
       "    </tr>\n",
       "  </tbody>\n",
       "</table>\n",
       "</div>"
      ],
      "text/plain": [
       "    price     transfer_date  postcode type  new duration paon saon  \\\n",
       "0  410000  2015-06-30 00:00  OX11 6DX    D    1        F    6  NaN   \n",
       "1  320000  2015-08-28 00:00  OX11 6DX    D    1        F   31  NaN   \n",
       "2  327000  2015-07-31 00:00  OX11 6DX    T    1        F   30  NaN   \n",
       "3  240000  2015-05-29 00:00  OX11 6DX    D    1        F   21  NaN   \n",
       "4  315000  2015-05-29 00:00  OX11 6DX    D    1        F   17  NaN   \n",
       "\n",
       "        street locality    city           district       county ppd_cat  \\\n",
       "0  LARCH DRIVE      NaN  DIDCOT  SOUTH OXFORDSHIRE  OXFORDSHIRE       A   \n",
       "1  LARCH DRIVE      NaN  DIDCOT  SOUTH OXFORDSHIRE  OXFORDSHIRE       A   \n",
       "2  LARCH DRIVE      NaN  DIDCOT  SOUTH OXFORDSHIRE  OXFORDSHIRE       A   \n",
       "3  LARCH DRIVE      NaN  DIDCOT  SOUTH OXFORDSHIRE  OXFORDSHIRE       A   \n",
       "4  LARCH DRIVE      NaN  DIDCOT  SOUTH OXFORDSHIRE  OXFORDSHIRE       A   \n",
       "\n",
       "  record_status        lat       lon  \n",
       "0             A  51.597698 -1.259341  \n",
       "1             A  51.597698 -1.259341  \n",
       "2             A  51.597698 -1.259341  \n",
       "3             A  51.597698 -1.259341  \n",
       "4             A  51.597698 -1.259341  "
      ]
     },
     "execution_count": 13,
     "metadata": {},
     "output_type": "execute_result"
    }
   ],
   "source": [
    "df = df.merge(postcodes, on='postcode')\n",
    "df.head()"
   ]
  },
  {
   "cell_type": "markdown",
   "metadata": {},
   "source": [
    "There are too many points to plot onto the map, so we will count how many new houses were built on each postcode area and plot them instead."
   ]
  },
  {
   "cell_type": "code",
   "execution_count": 19,
   "metadata": {
    "collapsed": false,
    "scrolled": true
   },
   "outputs": [
    {
     "name": "stderr",
     "output_type": "stream",
     "text": [
      "/home/jamal/anaconda3/lib/python3.5/site-packages/ipykernel/__main__.py:2: FutureWarning: currently extract(expand=None) means expand=False (return Index/Series/DataFrame) but in a future version of pandas this will be changed to expand=True (return DataFrame)\n",
      "  from ipykernel import kernelapp as app\n"
     ]
    },
    {
     "data": {
      "text/plain": [
       "postcode\n",
       "AL     360\n",
       "B     1929\n",
       "BA     870\n",
       "BB     409\n",
       "BD     753\n",
       "BH     857\n",
       "BL     233\n",
       "BN    1052\n",
       "BR     437\n",
       "BS    1724\n",
       "Name: postcode, dtype: int64"
      ]
     },
     "execution_count": 19,
     "metadata": {},
     "output_type": "execute_result"
    }
   ],
   "source": [
    "new = df[df.new == 1]\n",
    "new_areas = new.groupby(new.postcode.str.extract(r'(\\D+)')).postcode.count()\n",
    "new_areas.head(10)"
   ]
  },
  {
   "cell_type": "markdown",
   "metadata": {},
   "source": [
    "We need a location for these postcode areas to plot. We will take the mean of all the points in each area to find an approximate location."
   ]
  },
  {
   "cell_type": "code",
   "execution_count": null,
   "metadata": {
    "collapsed": false,
    "scrolled": true
   },
   "outputs": [],
   "source": [
    "import re\n",
    "plot_locs = {}\n",
    "\n",
    "for area in new_areas.index:\n",
    "    lat = []\n",
    "    lon = []\n",
    "    \n",
    "    for i, house in new.iterrows():\n",
    "        if re.match('({}[^a-zA-Z].+)'.format(area), house.postcode) and not pd.isnull(house.loc['lat']) and not pd.isnull(house.loc['lon']):\n",
    "            lat.append(house.loc['lat'])\n",
    "            lon.append(house.loc['lon'])\n",
    "            \n",
    "    plot_locs[area] = np.mean(lat), np.mean(lon)"
   ]
  },
  {
   "cell_type": "code",
   "execution_count": 52,
   "metadata": {
    "collapsed": false,
    "scrolled": true
   },
   "outputs": [
    {
     "data": {
      "text/plain": [
       "{'AL': (51.783578883333334, -0.3067138888888889),\n",
       " 'B': (52.434881706065319, -1.9003214644893724),\n",
       " 'BA': (51.231559009195401, -2.4044826919540232),\n",
       " 'BB': (53.788252721271398, -2.362023606356968),\n",
       " 'BD': (53.832719695883135, -1.8382358313413014),\n",
       " 'BH': (50.740372628938161, -1.8833508354725785),\n",
       " 'BL': (53.59290151502146, -2.4277072918454934),\n",
       " 'BN': (50.829735776615969, -0.19405125950570337),\n",
       " 'BR': (51.399566292906179, 0.037467974828375279),\n",
       " 'BS': (51.458590039443166, -2.6121139541763339),\n",
       " 'CA': (54.752118088765592, -3.1416993925104029),\n",
       " 'CB': (52.187083460481098, 0.16237778006872852),\n",
       " 'CF': (51.527527565806459, -3.3624536516129035),\n",
       " 'CH': (53.217820556249997, -2.9925901062499998),\n",
       " 'CM': (51.773551008496177, 0.40598659813084115),\n",
       " 'CO': (51.901923581717462, 0.87665174099722998),\n",
       " 'CR': (51.358706972835307, -0.11024782512733444),\n",
       " 'CT': (51.248627342399999, 1.2466703312),\n",
       " 'CV': (52.367911481710742, -1.5021891508159819),\n",
       " 'CW': (53.174552414985584, -2.4738156945244953),\n",
       " 'DA': (51.462318036999996, 0.20524461999999999),\n",
       " 'DE': (52.893957038350223, -1.5164230557163529),\n",
       " 'DH': (54.821450611851844, -1.5827352651851854),\n",
       " 'DL': (54.543316738396619, -1.5997412742616035),\n",
       " 'DN': (53.50995850569948, -0.8196541502590674),\n",
       " 'DT': (50.686343183673465, -2.4773179959183667),\n",
       " 'DY': (52.461637249605054, -2.1616073933649291),\n",
       " 'E': (51.530952641954023, -0.025671398850574713),\n",
       " 'EC': (51.52437691390729, -0.093193334437086092),\n",
       " 'EN': (51.678587517241382, -0.098882193965517243),\n",
       " 'EX': (50.798589820689649, -3.6243658006896551),\n",
       " 'FY': (53.838709385826768, -3.0091814763779525),\n",
       " 'GL': (51.83162555475505, -2.1706721556195965),\n",
       " 'GU': (51.221872024431342, -0.74508690985678172),\n",
       " 'HA': (51.582676516436905, -0.32039291622481442),\n",
       " 'HD': (53.634052429378528, -1.7819272711864405),\n",
       " 'HG': (54.011889564102553, -1.526402111111111),\n",
       " 'HP': (51.76571035483871, -0.7336576580645161),\n",
       " 'HR': (52.027340088888892, -2.6975799111111107),\n",
       " 'HU': (53.786001326815644, -0.36185493296089383),\n",
       " 'HX': (53.709492842519687, -1.8885486377952756),\n",
       " 'IG': (51.57317936820084, 0.083706694560669467),\n",
       " 'IP': (52.216442881847478, 1.0717192620837808),\n",
       " 'KT': (51.364710579196213, -0.33398169267139483),\n",
       " 'L': (53.421283883744856, -2.926534300411523),\n",
       " 'LA': (54.155676572597145, -2.83651226993865),\n",
       " 'LD': (52.230824619047617, -3.342686333333333),\n",
       " 'LE': (52.627815017273058, -1.1643516552737962),\n",
       " 'LL': (53.151686016042788, -3.6774321791443856),\n",
       " 'LN': (53.221998968965522, -0.50717587241379314),\n",
       " 'LS': (53.824597756245268, -1.5551813164269492),\n",
       " 'LU': (51.89987412301587, -0.57378997222222228),\n",
       " 'M': (53.484292703245096, -2.2626100350128096),\n",
       " 'ME': (51.351666821153849, 0.58302163365384629),\n",
       " 'MK': (52.058353497329385, -0.63360171869436199),\n",
       " 'N': (51.567312311377243, -0.10033145808383233),\n",
       " 'NE': (55.030574994011978, -1.5856831552280057),\n",
       " 'NG': (53.033554034507041, -1.0637769626760563),\n",
       " 'NN': (52.30164769681398, -0.81957545940390542),\n",
       " 'NP': (51.623319300813009, -2.9885005826558264),\n",
       " 'NR': (52.644459679964534, 1.2977269911347518),\n",
       " 'NW': (51.574416469684031, -0.23681774637062339),\n",
       " 'OL': (53.584360960616443, -2.1329173424657535),\n",
       " 'OX': (51.765021279220768, -1.2885347243867245),\n",
       " 'PE': (52.595645771856283, -0.10579643473053893),\n",
       " 'PL': (50.389267380549683, -4.3359943858350949),\n",
       " 'PO': (50.821985745712148, -0.98231025577926923),\n",
       " 'PR': (53.703679237358102, -2.7155979783281734),\n",
       " 'RG': (51.404360011600929, -1.0018305365429232),\n",
       " 'RH': (51.086063700294552, -0.22119021870397643),\n",
       " 'RM': (51.551886847567566, 0.23217752864864866),\n",
       " 'S': (53.411815400110676, -1.391519662423907),\n",
       " 'SA': (51.709086953196341, -4.2056727808219181),\n",
       " 'SE': (51.483310190676193, -0.033394923981520372),\n",
       " 'SG': (51.972200130593606, -0.18369606940639271),\n",
       " 'SK': (53.39214144093178, -2.069947149750416),\n",
       " 'SL': (51.506620427223709, -0.63922701617250677),\n",
       " 'SM': (51.364798493750001, -0.17858360625),\n",
       " 'SN': (51.542102991878174, -1.849015585786802),\n",
       " 'SO': (50.943537853731343, -1.3840775124378109),\n",
       " 'SP': (51.163847361474438, -1.6631862271105828),\n",
       " 'SR': (54.884891533333324, -1.3859167128205125),\n",
       " 'SS': (51.571379364583336, 0.5278312997685185),\n",
       " 'ST': (52.959956573816157, -2.1659927994428969),\n",
       " 'SW': (51.463595331168833, -0.16123125824175824),\n",
       " 'SY': (52.754922737500003, -2.8512403249999996),\n",
       " 'TA': (51.046985927218344, -3.0604575214356933),\n",
       " 'TD': (55.757483999999998, -2.0402136666666668),\n",
       " 'TF': (52.703577738714095, -2.4563860738714096),\n",
       " 'TN': (51.120450285986657, 0.53640742707340316),\n",
       " 'TQ': (50.473317146226407, -3.6167107051886789),\n",
       " 'TR': (50.256775336569582, -5.1775091957928794),\n",
       " 'TS': (54.579723053366173, -1.2331797323481115),\n",
       " 'TW': (51.468177647632317, -0.34831643732590528),\n",
       " 'UB': (51.523697752475243, -0.4491913089108911),\n",
       " 'W': (51.506178704918028, -0.23741910758196724),\n",
       " 'WA': (53.405074085743806, -2.6252227190082644),\n",
       " 'WC': (51.515007116279087, -0.12209251162790699),\n",
       " 'WD': (51.667612900726397, -0.37498833656174335),\n",
       " 'WF': (53.68063677761733, -1.446092244765343),\n",
       " 'WN': (53.534741970695968, -2.6517497252747249),\n",
       " 'WR': (52.157874667029382, -2.1032033797606093),\n",
       " 'WS': (52.641458027363186, -1.956629037313433),\n",
       " 'WV': (52.585514629489609, -2.1271517977315688),\n",
       " 'YO': (54.057958085741816, -0.86745353275529857)}"
      ]
     },
     "execution_count": 52,
     "metadata": {},
     "output_type": "execute_result"
    }
   ],
   "source": [
    "plot_locs"
   ]
  },
  {
   "cell_type": "markdown",
   "metadata": {},
   "source": [
    "Uk postcode areas from http://www.opendoorlogistics.com/downloads/"
   ]
  },
  {
   "cell_type": "code",
   "execution_count": 53,
   "metadata": {
    "collapsed": false
   },
   "outputs": [
    {
     "data": {
      "text/plain": [
       "<mpl_toolkits.basemap.Basemap at 0x7f14bb75fc50>"
      ]
     },
     "execution_count": 53,
     "metadata": {},
     "output_type": "execute_result"
    },
    {
     "data": {
      "image/png": "[encoded data removed]",
      "text/plain": [
       "<matplotlib.figure.Figure at 0x7f14bb75ffd0>"
      ]
     },
     "metadata": {},
     "output_type": "display_data"
    }
   ],
   "source": [
    "from mpl_toolkits.basemap import Basemap\n",
    "import matplotlib.pyplot as plt\n",
    "\n",
    "plt.rcParams['agg.path.chunksize'] = 10000\n",
    "\n",
    "figure = plt.figure(figsize=(10,20))\n",
    "\n",
    "m = Basemap(llcrnrlon=-6., llcrnrlat= 49.5,urcrnrlon=2., urcrnrlat=55.2,\n",
    "            resolution='f', projection='merc', lat_0=54.5, lon_0=-4.36) # c, l, i, h, f or None\n",
    "\n",
    "m.drawmapboundary(fill_color='#46bcec')\n",
    "m.fillcontinents(color='#f2f2f2',lake_color='#46bcec')\n",
    "m.drawcoastlines()\n",
    "\n",
    "#m.readshapefile('data/uk_postcode_bounds/Areas', 'Areas')\n",
    "\n",
    "for area, loc in plot_locs.items():\n",
    "    #print(\"Lat: {} | Lon: {}\".format(loc[0], loc[1]))\n",
    "    x, y = m(loc[1], loc[0])\n",
    "    size = (new_areas.loc[area]/1000) ** 2 + 3\n",
    "    m.plot(x, y, 'o', markersize=size, color='#444444', alpha=0.8)\n",
    "\n",
    "m"
   ]
  }
 ],
 "metadata": {
  "kernelspec": {
   "display_name": "Python 3",
   "language": "python",
   "name": "python3"
  },
  "language_info": {
   "codemirror_mode": {
    "name": "ipython",
    "version": 3
   },
   "file_extension": ".py",
   "mimetype": "text/x-python",
   "name": "python",
   "nbconvert_exporter": "python",
   "pygments_lexer": "ipython3",
   "version": "3.5.1"
  }
 },
 "nbformat": 4,
 "nbformat_minor": 0
}
